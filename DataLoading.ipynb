{
 "cells": [
  {
   "cell_type": "code",
   "execution_count": 1,
   "metadata": {},
   "outputs": [],
   "source": [
    "import mrcfile\n",
    "import numpy as np\n",
    "import os\n",
    "import fnmatch\n",
    "training_path = '/local/scratch/public/sl767/MRC_Data/toy/data/'\n",
    "evaluation_path = '/local/scratch/public/sl767/MRC_Data/toy/data/'"
   ]
  },
  {
   "cell_type": "code",
   "execution_count": 2,
   "metadata": {},
   "outputs": [],
   "source": [
    "def find(pattern, path):\n",
    "    result = []\n",
    "    for root, dirs, files in os.walk(path):\n",
    "        for name in files:\n",
    "            if fnmatch.fnmatch(name, pattern):\n",
    "                result.append(os.path.join(root, name).replace(\"\\\\\", \"/\"))\n",
    "    return result\n",
    "\n",
    "def replace_extension(path, old_ex, new_ex):\n",
    "    l = len(old_ex)\n",
    "    pruned_path = path[0:-l]\n",
    "    path = pruned_path+new_ex\n",
    "    return path\n",
    "\n",
    "def get_paths(path, truth_ex, recon_ex):\n",
    "    L = find('*'+truth_ex, path)\n",
    "    res = []\n",
    "    for l in L:\n",
    "        res.append([l, replace_extension(l, truth_ex, recon_ex)])\n",
    "    return res"
   ]
  },
  {
   "cell_type": "code",
   "execution_count": 3,
   "metadata": {},
   "outputs": [],
   "source": [
    "training_list = get_paths(training_path, '_scaled.mrc', '_filtered.mrc')\n",
    "evaluation_list = get_paths(training_path, '_scaled.mrc', '_filtered.mrc')"
   ]
  },
  {
   "cell_type": "code",
   "execution_count": 4,
   "metadata": {},
   "outputs": [],
   "source": [
    "def get_element(number, training=True):\n",
    "    if training:\n",
    "        L = training_list\n",
    "    else:\n",
    "        L = evaluation_list\n",
    "    with mrcfile.open(L[number][0]) as mrc:\n",
    "        gt = mrc.data\n",
    "    with mrcfile.open(L[number][1]) as mrc:\n",
    "        rec = mrc.data\n",
    "    return gt, rec"
   ]
  },
  {
   "cell_type": "code",
   "execution_count": 5,
   "metadata": {},
   "outputs": [],
   "source": [
    "gt, rec = get_element(5)"
   ]
  },
  {
   "cell_type": "code",
   "execution_count": 16,
   "metadata": {},
   "outputs": [
    {
     "data": {
      "text/plain": [
       "-0.43500575"
      ]
     },
     "execution_count": 16,
     "metadata": {},
     "output_type": "execute_result"
    }
   ],
   "source": [
    "rec.min()"
   ]
  },
  {
   "cell_type": "code",
   "execution_count": 14,
   "metadata": {},
   "outputs": [
    {
     "data": {
      "text/plain": [
       "0.02976817"
      ]
     },
     "execution_count": 14,
     "metadata": {},
     "output_type": "execute_result"
    }
   ],
   "source": [
    "rec.mean()"
   ]
  },
  {
   "cell_type": "code",
   "execution_count": 19,
   "metadata": {},
   "outputs": [
    {
     "data": {
      "text/plain": [
       "[None, 2, None]"
      ]
     },
     "execution_count": 19,
     "metadata": {},
     "output_type": "execute_result"
    }
   ],
   "source": [
    "[None,2] + [None]"
   ]
  },
  {
   "cell_type": "code",
   "execution_count": null,
   "metadata": {},
   "outputs": [],
   "source": []
  }
 ],
 "metadata": {
  "kernelspec": {
   "display_name": "Python 3",
   "language": "python",
   "name": "python3"
  },
  "language_info": {
   "codemirror_mode": {
    "name": "ipython",
    "version": 3
   },
   "file_extension": ".py",
   "mimetype": "text/x-python",
   "name": "python",
   "nbconvert_exporter": "python",
   "pygments_lexer": "ipython3",
   "version": "3.6.7"
  }
 },
 "nbformat": 4,
 "nbformat_minor": 2
}
