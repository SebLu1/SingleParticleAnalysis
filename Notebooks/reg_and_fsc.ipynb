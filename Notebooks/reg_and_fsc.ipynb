{
 "cells": [
  {
   "cell_type": "code",
   "execution_count": 1,
   "metadata": {},
   "outputs": [],
   "source": [
    "import numpy as np\n",
    "import mrcfile\n",
    "from matplotlib import pyplot as plt\n",
    "# %matplotlib inline\n",
    "import collections\n",
    "#import tensorflow as tf\n",
    "#from tensorflow import spectral\n",
    "from ClassFiles.relion_fixed_it import load_star\n",
    "#from ClassFiles.AdversarialRegularizer import AdversarialRegulariser\n",
    "from ClassFiles.ut import l2\n",
    "from ClassFiles.Utilities import registration\n",
    "from ClassFiles.ut import locate_gt, rfft, irfft, unify_form, Rescaler, find\n",
    "import subprocess as sp\n",
    "\n",
    "def runCommand(cmd_string, file_path=None):\n",
    "    if file_path is None:\n",
    "        sp.call(cmd_string.split(' '))\n",
    "    else:\n",
    "        file = open(file_path, 'w')\n",
    "        sp.call(cmd_string.split(' '), stdout=file)\n",
    "        file.close()"
   ]
  },
  {
   "cell_type": "code",
   "execution_count": 2,
   "metadata": {},
   "outputs": [],
   "source": [
    "######### MULT = 02\n",
    "\n",
    "pdb_id = '5A0M'\n",
    "AR_path = '/local/scratch/public/sl767/MRC_Data/Data_002_10k/TestAR/'\n",
    "classical_path = '/local/scratch/public/sl767/MRC_Data/Data_002_10k/EM/'\n",
    "GT_path = locate_gt(pdb_id, full_path=False)\n",
    "\n",
    "AR_fin_path = AR_path + pdb_id + '/5A0M_mult002_class001.mrc'\n",
    "Rel_fin_path = classical_path + pdb_id + '/5A0M_mult002_class001.mrc'\n",
    "\n",
    "AR_fin_chimera_reg_path = '/local/scratch/public/sl767/MRC_Data/Data_002_10k/ChimeraReg/AR/AR_aligned.mrc'\n",
    "AR_log_path = '/local/scratch/public/sl767/MRC_Data/Data_002_10k/ChimeraReg/AR/AR_fsc.dat'\n",
    "AR_masked_path = '/local/scratch/public/sl767/MRC_Data/Data_002_10k/ChimeraReg/AR/AR_aligned_masked'\n",
    "\n",
    "Rel_fin_chimera_reg_path = '/local/scratch/public/sl767/MRC_Data/Data_002_10k/ChimeraReg/REL/REL_aligned.mrc'\n",
    "REL_log_path = '/local/scratch/public/sl767/MRC_Data/Data_002_10k/ChimeraReg/REL/REL_fsc.dat'\n",
    "\n",
    "REL_masked_path = '/local/scratch/public/sl767/MRC_Data/Data_002_10k/ChimeraReg/REL/REL_aligned_masked'\n",
    "\n",
    "DEN_fin_chimera_reg_path = '/local/scratch/public/sl767/MRC_Data/Data_002_10k/ChimeraReg/DEN/DEN_aligned.mrc'\n",
    "DEN_log_path = '/local/scratch/public/sl767/MRC_Data/Data_002_10k/ChimeraReg/DEN/DEN_fsc.dat'\n",
    "DEN_masked_path = '/local/scratch/public/sl767/MRC_Data/Data_002_10k/ChimeraReg/DEN/DEN_aligned_masked'\n",
    "\n",
    "mask_path = '/local/scratch/public/sl767/MRC_Data/Data_002_10k/ChimeraReg/Mask/mask'"
   ]
  },
  {
   "cell_type": "code",
   "execution_count": 5,
   "metadata": {},
   "outputs": [],
   "source": [
    "######### MULT = 016\n",
    "pdb_id = '5A0M'\n",
    "classical_path = '/local/scratch/public/sl767/MRC_Data/Data/Data_0016_10k/EM/eval/'\n",
    "GT_path = locate_gt(pdb_id, full_path=False)\n",
    "Rel_fin_path = classical_path + pdb_id + '/5A0M_mult0016_class001.mrc'\n",
    "\n",
    "\n",
    "Rel_fin_chimera_reg_path = '/local/scratch/public/sl767/MRC_Data/Data/Data_0016_10k/misc/ChimeraReg/REL/REL_aligned_016.mrc'\n",
    "REL_log_path = '/local/scratch/public/sl767/MRC_Data/Data/Data_0016_10k/misc/ChimeraReg/REL/REL_016_fsc.dat'\n",
    "\n",
    "REL_masked_path = '/local/scratch/public/sl767/MRC_Data/Data/Data_0016_10k/misc/ChimeraReg/REL/REL_aligned_016_masked'\n",
    "\n",
    "\n",
    "\n",
    "mask_path = '/local/scratch/public/sl767/MRC_Data/Data/Data_0016_10k/misc/ChimeraReg/Mask/mask'"
   ]
  },
  {
   "cell_type": "code",
   "execution_count": 3,
   "metadata": {},
   "outputs": [],
   "source": [
    "######### MULT = 012\n",
    "pdb_id = '5A0M'\n",
    "classical_path = '/local/scratch/public/sl767/MRC_Data/Data/Data_0012_10k/EM/eval/'\n",
    "GT_path = locate_gt(pdb_id, full_path=False)\n",
    "Rel_fin_path = classical_path + pdb_id + '/5A0M_mult0012_class001.mrc'\n",
    "\n",
    "\n",
    "Rel_fin_chimera_reg_path = '/local/scratch/public/sl767/MRC_Data/Data/Data_0012_10k/misc/ChimeraReg/REL/REL_aligned_012.mrc'\n",
    "REL_log_path = '/local/scratch/public/sl767/MRC_Data/Data/Data_0012_10k/misc/ChimeraReg/REL/REL_012_fsc.dat'\n",
    "\n",
    "REL_masked_path = '/local/scratch/public/sl767/MRC_Data/Data/Data_0012_10k/misc/ChimeraReg/REL/REL_aligned_012_masked'\n",
    "\n",
    "\n",
    "AR_rp0075_fin_chimera_reg_path = '/local/scratch/public/sl767/MRC_Data/Data/Data_0012_10k/misc/ChimeraReg/AR/AR_rp0075_aligned_012.mrc'\n",
    "AR_rp0075_log_path = '/local/scratch/public/sl767/MRC_Data/Data/Data_0012_10k/misc/ChimeraReg/AR/AR_rp0075_012_fsc.dat'\n",
    "AR_rp0075_masked_path = '/local/scratch/public/sl767/MRC_Data/Data/Data_0012_10k/misc/ChimeraReg/AR/AR_rp0075_aligned_012_masked'\n",
    "\n",
    "\n",
    "mask_path = '/local/scratch/public/sl767/MRC_Data/Data/Data_0012_10k/misc/ChimeraReg/Mask/mask'"
   ]
  },
  {
   "cell_type": "code",
   "execution_count": 14,
   "metadata": {},
   "outputs": [],
   "source": [
    "######### MULT = 01\n",
    "pdb_id = '5A0M'\n",
    "classical_path = '/local/scratch/public/sl767/MRC_Data/Data/Data_001_10k/EM/eval/'\n",
    "GT_path = locate_gt(pdb_id, full_path=False)\n",
    "Rel_fin_path = classical_path + pdb_id + '/5A0M_mult001_class001.mrc'\n",
    "\n",
    "\n",
    "Rel_fin_chimera_reg_path = '/local/scratch/public/sl767/MRC_Data/Data/Data_001_10k/misc/ChimeraReg/REL/REL_aligned_01.mrc'\n",
    "REL_log_path = '/local/scratch/public/sl767/MRC_Data/Data/Data_001_10k/misc/ChimeraReg/REL/REL_01_fsc.dat'\n",
    "\n",
    "REL_masked_path = '/local/scratch/public/sl767/MRC_Data/Data/Data_001_10k/misc/ChimeraReg/REL/REL_aligned_01_masked'\n",
    "\n",
    "\n",
    "#AR_rp003_fin_path = '/local/scratch/public/sl767/MRC_Data/Data/Data_001_10k/eval/AR/5A0M/003/5A0M_mult001_class001.mrc'\n",
    "AR_rp003_fin_chimera_reg_path = '/local/scratch/public/sl767/MRC_Data/Data/Data_001_10k/misc/ChimeraReg/AR/AR_rp003_aligned_01.mrc'\n",
    "AR_rp003_log_path = '/local/scratch/public/sl767/MRC_Data/Data/Data_001_10k/misc/ChimeraReg/AR/AR_rp003_01_fsc.dat'\n",
    "AR_rp003_masked_path = '/local/scratch/public/sl767/MRC_Data/Data/Data_001_10k/misc/ChimeraReg/AR/AR_rp003_aligned_01_masked'\n",
    "\n",
    "\n",
    "mask_path = '/local/scratch/public/sl767/MRC_Data/Data/Data_001_10k/misc/ChimeraReg/Mask/mask'"
   ]
  },
  {
   "cell_type": "code",
   "execution_count": 8,
   "metadata": {},
   "outputs": [],
   "source": [
    "#relion_mask_create on the ground truth map.\n",
    "#Apply a low pass filter to 15 A, binarise (you have to\n",
    "#try-and-error the threshold), extend the edge by 3 px\n",
    "#and add 3 px soft edge. This is to suppress mixing of\n",
    "#low resolution terms into high resolution terms.\n",
    "#(masking = multiplication in the real space is\n",
    "#convolution in the reciprocal space; a sharp mask means\n",
    "#more mixing, inflating high resolution FSC)\n",
    "\n",
    "for tresh in [0.175]:\n",
    "    create_mask_cmd = 'relion_mask_create' \n",
    "    create_mask_cmd += ' --i {GT_path}' # : Input map to use for thresholding to generate initial binary mask\n",
    "    create_mask_cmd += ' --o {mask_path}_{tresh}.mrc' # : Output mask\n",
    "    create_mask_cmd += ' --ini_threshold {tresh}'# : Initial threshold for binarization\n",
    "    create_mask_cmd += ' --extend_inimask 3' # : Extend initial binary mask this number of pixels\n",
    "    create_mask_cmd += ' --width_soft_edge 3' #: Width (in pixels) of the additional soft edge on the binary mask\n",
    "    create_mask_cmd += ' --lowpass 15' # : Lowpass filter (in Angstroms) for the input map, prior to binarization (default is none)\n",
    "    create_mask_cmd += ' --angpix 1.5' # : Pixel size (in Angstroms) for the lowpass filter\n",
    "    create_mask_cmd = create_mask_cmd.format(GT_path=GT_path, mask_path=mask_path, tresh=tresh)\n",
    "\n",
    "    runCommand(create_mask_cmd)"
   ]
  },
  {
   "cell_type": "code",
   "execution_count": 11,
   "metadata": {},
   "outputs": [],
   "source": [
    "#Then use relion_image_handler --multiply to\n",
    "#mask the output volumes before calculating FSCs.\n",
    "TRESH = 0.175\n",
    "mult_cmd = 'relion_image_handler'\n",
    "mult_cmd += ' --i {reco_path}'\n",
    "mult_cmd += ' --o {masked_path}'\n",
    "mult_cmd += ' --multiply {mask_path}_{tresh}.mrc'\n",
    "mult_cmd = mult_cmd.format(reco_path=Rel_fin_chimera_reg_path,\n",
    "                           masked_path=REL_masked_path + '_' + str(TRESH) + '.mrc',\n",
    "                           mask_path=mask_path, tresh=TRESH)\n",
    "\n",
    "runCommand(mult_cmd)"
   ]
  },
  {
   "cell_type": "code",
   "execution_count": 6,
   "metadata": {},
   "outputs": [],
   "source": [
    "# AR, RegPar 0075\n",
    "TRESH = 0.175\n",
    "mult_cmd = 'relion_image_handler'\n",
    "mult_cmd += ' --i {reco_path}'\n",
    "mult_cmd += ' --o {masked_path}'\n",
    "mult_cmd += ' --multiply {mask_path}_{tresh}.mrc'\n",
    "mult_cmd = mult_cmd.format(reco_path=AR_rp0075_fin_chimera_reg_path,\n",
    "                           masked_path=AR_rp0075_masked_path + '_' + str(TRESH) + '.mrc',\n",
    "                           mask_path=mask_path, tresh=TRESH)\n",
    "\n",
    "runCommand(mult_cmd)"
   ]
  },
  {
   "cell_type": "code",
   "execution_count": 34,
   "metadata": {},
   "outputs": [],
   "source": [
    "TRESH = 0.175\n",
    "mult_cmd = 'relion_image_handler'\n",
    "mult_cmd += ' --i {reco_path}'\n",
    "mult_cmd += ' --o {masked_path}'\n",
    "mult_cmd += ' --multiply {mask_path}_{tresh}.mrc'\n",
    "mult_cmd = mult_cmd.format(reco_path=DEN_fin_chimera_reg_path,\n",
    "                           masked_path=DEN_masked_path + '_' + str(TRESH) + '.mrc',\n",
    "                           mask_path=mask_path, tresh=TRESH)\n",
    "\n",
    "runCommand(mult_cmd)"
   ]
  },
  {
   "cell_type": "code",
   "execution_count": 7,
   "metadata": {},
   "outputs": [],
   "source": [
    "fsc_cmd = 'relion_image_handler --i {GT_path}'\n",
    "fsc_cmd += ' --fsc {reco_path}'\n",
    "fsc_cmd += ' --angpix 1.5'\n",
    "fsc_cmd = fsc_cmd.format(GT_path=GT_path, reco_path=AR_fin_chimera_reg_path)\n",
    "\n",
    "runCommand(fsc_cmd, AR_log_path)"
   ]
  },
  {
   "cell_type": "code",
   "execution_count": 11,
   "metadata": {},
   "outputs": [],
   "source": [
    "fsc_cmd = 'relion_image_handler --i {GT_path}'\n",
    "fsc_cmd += ' --fsc {reco_path}'\n",
    "fsc_cmd += ' --angpix 1.5'\n",
    "fsc_cmd = fsc_cmd.format(GT_path=GT_path, reco_path=Rel_fin_chimera_reg_path)\n",
    "\n",
    "runCommand(fsc_cmd, REL_log_path)"
   ]
  },
  {
   "cell_type": "code",
   "execution_count": 13,
   "metadata": {},
   "outputs": [],
   "source": [
    "fsc_cmd = 'relion_image_handler --i {GT_path}'\n",
    "fsc_cmd += ' --fsc {reco_path}'\n",
    "fsc_cmd += ' --angpix 1.5'\n",
    "fsc_cmd = fsc_cmd.format(GT_path=GT_path, reco_path=DEN_fin_chimera_reg_path)\n",
    "\n",
    "runCommand(fsc_cmd, DEN_log_path)"
   ]
  },
  {
   "cell_type": "code",
   "execution_count": null,
   "metadata": {},
   "outputs": [],
   "source": [
    "###########\n",
    "###########\n",
    "##########\n",
    "# MASKED "
   ]
  },
  {
   "cell_type": "code",
   "execution_count": 31,
   "metadata": {},
   "outputs": [],
   "source": [
    "######### MULT = 02\n",
    "REL_MASKED_REALIGNED_path = '/local/scratch/public/sl767/MRC_Data/Data_002_10k/ChimeraReg/REL/REL_aligned_masked_0.175_realigned.mrc'\n",
    "MASKED_REL_log_path = '/local/scratch/public/sl767/MRC_Data/Data_002_10k/ChimeraReg/REL/REL_MASKED_0.175_fsc.dat'\n",
    "fsc_cmd = 'relion_image_handler --i {GT_path}'\n",
    "fsc_cmd += ' --fsc {reco_path}'\n",
    "fsc_cmd += ' --angpix 1.5'\n",
    "fsc_cmd = fsc_cmd.format(GT_path=GT_path, reco_path=REL_MASKED_REALIGNED_path)\n",
    "\n",
    "runCommand(fsc_cmd, MASKED_REL_log_path)"
   ]
  },
  {
   "cell_type": "code",
   "execution_count": 9,
   "metadata": {},
   "outputs": [],
   "source": [
    "######### MULT = 016\n",
    "REL_MASKED_REALIGNED_path = '/local/scratch/public/sl767/MRC_Data/Data/Data_0016_10k/misc/ChimeraReg/REL/REL_aligned_016_masked_0.175_realigned.mrc'\n",
    "MASKED_REL_log_path = '/local/scratch/public/sl767/MRC_Data/Data/Data_0016_10k/misc/ChimeraReg/REL/REL_016_MASKED_0.175_fsc.dat'\n",
    "fsc_cmd = 'relion_image_handler --i {GT_path}'\n",
    "fsc_cmd += ' --fsc {reco_path}'\n",
    "fsc_cmd += ' --angpix 1.5'\n",
    "fsc_cmd = fsc_cmd.format(GT_path=GT_path, reco_path=REL_MASKED_REALIGNED_path)\n",
    "\n",
    "runCommand(fsc_cmd, MASKED_REL_log_path)"
   ]
  },
  {
   "cell_type": "code",
   "execution_count": 12,
   "metadata": {},
   "outputs": [],
   "source": [
    "######### MULT = 012\n",
    "REL_MASKED_REALIGNED_path = '/local/scratch/public/sl767/MRC_Data/Data/Data_0012_10k/misc/ChimeraReg/REL/REL_aligned_012_masked_0.175_realigned.mrc'\n",
    "MASKED_REL_log_path = '/local/scratch/public/sl767/MRC_Data/Data/Data_0012_10k/misc/ChimeraReg/REL/REL_012_MASKED_0.175_fsc.dat'\n",
    "fsc_cmd = 'relion_image_handler --i {GT_path}'\n",
    "fsc_cmd += ' --fsc {reco_path}'\n",
    "fsc_cmd += ' --angpix 1.5'\n",
    "fsc_cmd = fsc_cmd.format(GT_path=GT_path, reco_path=REL_MASKED_REALIGNED_path)\n",
    "\n",
    "runCommand(fsc_cmd, MASKED_REL_log_path)"
   ]
  },
  {
   "cell_type": "code",
   "execution_count": 6,
   "metadata": {},
   "outputs": [],
   "source": [
    "######### MULT = 01\n",
    "REL_MASKED_REALIGNED_path = '/local/scratch/public/sl767/MRC_Data/Data/Data_001_10k/misc/ChimeraReg/REL/REL_aligned_01_masked_0.175_realigned.mrc'\n",
    "MASKED_REL_log_path = '/local/scratch/public/sl767/MRC_Data/Data/Data_001_10k/misc/ChimeraReg/REL/REL_01_MASKED_0.175_fsc.dat'\n",
    "fsc_cmd = 'relion_image_handler --i {GT_path}'\n",
    "fsc_cmd += ' --fsc {reco_path}'\n",
    "fsc_cmd += ' --angpix 1.5'\n",
    "fsc_cmd = fsc_cmd.format(GT_path=GT_path, reco_path=REL_MASKED_REALIGNED_path)\n",
    "\n",
    "runCommand(fsc_cmd, MASKED_REL_log_path)"
   ]
  },
  {
   "cell_type": "code",
   "execution_count": 35,
   "metadata": {},
   "outputs": [],
   "source": [
    "######### MULT = 02\n",
    "AR_MASKED_REALIGNED_path = '/local/scratch/public/sl767/MRC_Data/Data_002_10k/ChimeraReg/AR/AR_aligned_masked_0.175_realigned.mrc'\n",
    "MASKED_AR_log_path = '/local/scratch/public/sl767/MRC_Data/Data_002_10k/ChimeraReg/AR/AR_MASKED_0.175_fsc.dat'\n",
    "fsc_cmd = 'relion_image_handler --i {GT_path}'\n",
    "fsc_cmd += ' --fsc {reco_path}'\n",
    "fsc_cmd += ' --angpix 1.5'\n",
    "fsc_cmd = fsc_cmd.format(GT_path=GT_path, reco_path=AR_MASKED_REALIGNED_path)\n",
    "\n",
    "runCommand(fsc_cmd, MASKED_AR_log_path)"
   ]
  },
  {
   "cell_type": "code",
   "execution_count": 7,
   "metadata": {},
   "outputs": [],
   "source": [
    "######### MULT = 01, rp003\n",
    "AR_rp003_MASKED_REALIGNED_path = '/local/scratch/public/sl767/MRC_Data/Data/Data_001_10k/misc/ChimeraReg/AR/AR_rp003_aligned_01_masked_0.175_realigned.mrc'\n",
    "MASKED_AR_rp_003_log_path = '/local/scratch/public/sl767/MRC_Data/Data/Data_001_10k/misc/ChimeraReg/AR/AR_rp003_01_MASKED_0.175_fsc.dat'\n",
    "fsc_cmd = 'relion_image_handler --i {GT_path}'\n",
    "fsc_cmd += ' --fsc {reco_path}'\n",
    "fsc_cmd += ' --angpix 1.5'\n",
    "fsc_cmd = fsc_cmd.format(GT_path=GT_path, reco_path=AR_rp003_MASKED_REALIGNED_path)\n",
    "\n",
    "runCommand(fsc_cmd, MASKED_AR_rp_003_log_path)"
   ]
  },
  {
   "cell_type": "code",
   "execution_count": 7,
   "metadata": {},
   "outputs": [],
   "source": [
    "######### MULT = 012, rp0075\n",
    "AR_rp0075_MASKED_REALIGNED_path = '/local/scratch/public/sl767/MRC_Data/Data/Data_0012_10k/misc/ChimeraReg/AR/AR_rp0075_aligned_012_masked_0.175_realigned.mrc'\n",
    "MASKED_AR_rp_0075_log_path = '/local/scratch/public/sl767/MRC_Data/Data/Data_0012_10k/misc/ChimeraReg/AR/AR_rp0075_012_MASKED_0.175_fsc.dat'\n",
    "fsc_cmd = 'relion_image_handler --i {GT_path}'\n",
    "fsc_cmd += ' --fsc {reco_path}'\n",
    "fsc_cmd += ' --angpix 1.5'\n",
    "fsc_cmd = fsc_cmd.format(GT_path=GT_path, reco_path=AR_rp0075_MASKED_REALIGNED_path)\n",
    "\n",
    "runCommand(fsc_cmd, MASKED_AR_rp_0075_log_path)"
   ]
  },
  {
   "cell_type": "code",
   "execution_count": 36,
   "metadata": {},
   "outputs": [],
   "source": [
    "######### MULT = 02\n",
    "DEN_MASKED_REALIGNED_path = '/local/scratch/public/sl767/MRC_Data/Data_002_10k/ChimeraReg/DEN/DEN_aligned_masked_0.175_realigned.mrc'\n",
    "MASKED_DEN_log_path = '/local/scratch/public/sl767/MRC_Data/Data_002_10k/ChimeraReg/DEN/DEN_MASKED_0.175_fsc.dat'\n",
    "fsc_cmd = 'relion_image_handler --i {GT_path}'\n",
    "fsc_cmd += ' --fsc {reco_path}'\n",
    "fsc_cmd += ' --angpix 1.5'\n",
    "fsc_cmd = fsc_cmd.format(GT_path=GT_path, reco_path=DEN_MASKED_REALIGNED_path)\n",
    "\n",
    "runCommand(fsc_cmd, MASKED_DEN_log_path)"
   ]
  },
  {
   "cell_type": "code",
   "execution_count": null,
   "metadata": {},
   "outputs": [],
   "source": []
  }
 ],
 "metadata": {
  "kernelspec": {
   "display_name": "Python 3",
   "language": "python",
   "name": "python3"
  },
  "language_info": {
   "codemirror_mode": {
    "name": "ipython",
    "version": 3
   },
   "file_extension": ".py",
   "mimetype": "text/x-python",
   "name": "python",
   "nbconvert_exporter": "python",
   "pygments_lexer": "ipython3",
   "version": "3.6.7"
  }
 },
 "nbformat": 4,
 "nbformat_minor": 2
}
