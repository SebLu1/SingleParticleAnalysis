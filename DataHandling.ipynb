{
 "cells": [
  {
   "cell_type": "code",
   "execution_count": 1,
   "metadata": {},
   "outputs": [],
   "source": [
    "import mrcfile\n",
    "import numpy as np\n",
    "from subprocess import call\n",
    "import matplotlib\n",
    "%matplotlib inline\n",
    "from matplotlib import pyplot as plt\n",
    "import os\n",
    "import fnmatch\n",
    "import progressbar"
   ]
  },
  {
   "cell_type": "code",
   "execution_count": null,
   "metadata": {},
   "outputs": [],
   "source": []
  },
  {
   "cell_type": "code",
   "execution_count": null,
   "metadata": {},
   "outputs": [],
   "source": []
  },
  {
   "cell_type": "code",
   "execution_count": null,
   "metadata": {},
   "outputs": [],
   "source": []
  },
  {
   "cell_type": "code",
   "execution_count": 2,
   "metadata": {},
   "outputs": [],
   "source": [
    "def find(pattern, path):\n",
    "    result = []\n",
    "    for root, dirs, files in os.walk(path):\n",
    "        for name in files:\n",
    "            if fnmatch.fnmatch(name, pattern):\n",
    "                result.append(os.path.join(root, name).replace(\"\\\\\", \"/\"))\n",
    "    return result\n",
    "\n",
    "def replace_extension(path, old_ex, new_ex):\n",
    "    l = len(old_ex)\n",
    "    pruned_path = path[0:-l]\n",
    "    path = pruned_path+new_ex\n",
    "    return path"
   ]
  },
  {
   "cell_type": "code",
   "execution_count": 3,
   "metadata": {},
   "outputs": [],
   "source": [
    "path = '/local/scratch/public/sl767/MRC_Data/toy/data/'\n",
    "molecules=find('*.mrc', path)\n",
    "scaled_molecules=find('*_scaled.mrc', path)"
   ]
  },
  {
   "cell_type": "code",
   "execution_count": 4,
   "metadata": {},
   "outputs": [],
   "source": [
    "def append_mrc(path, extension):\n",
    "    pruned_path = path[0:-4]\n",
    "    path = pruned_path+'_' +extension+'.mrc'\n",
    "    return path"
   ]
  },
  {
   "cell_type": "code",
   "execution_count": 5,
   "metadata": {},
   "outputs": [
    {
     "name": "stderr",
     "output_type": "stream",
     "text": [
      "100% (3019 of 3019) |####################| Elapsed Time: 0:03:19 Time:  0:03:19\n"
     ]
    }
   ],
   "source": [
    "for molecule in progressbar.progressbar(molecules):\n",
    "    out = append_mrc(molecule, 'scaled')\n",
    "    call('relion_image_handler --i {} --o {} --angpix 1.5 --rescale_angpix 3.0'.format(molecule, out),\n",
    "        shell=True)"
   ]
  },
  {
   "cell_type": "code",
   "execution_count": null,
   "metadata": {},
   "outputs": [
    {
     "name": "stderr",
     "output_type": "stream",
     "text": [
      " 84% (2543 of 3019) |################    | Elapsed Time: 0:01:15 ETA:   0:00:12"
     ]
    }
   ],
   "source": [
    "for molecule in progressbar.progressbar(scaled_molecules):\n",
    "    out = replace_extension(molecule, '_scaled.mrc', '_filtered.mrc')\n",
    "    call('relion_image_handler --i {} --o {} --lowpass 20 --angpix 3'.format(molecule, out),\n",
    "        shell=True)"
   ]
  },
  {
   "cell_type": "code",
   "execution_count": null,
   "metadata": {},
   "outputs": [],
   "source": []
  },
  {
   "cell_type": "code",
   "execution_count": null,
   "metadata": {},
   "outputs": [],
   "source": []
  }
 ],
 "metadata": {
  "kernelspec": {
   "display_name": "Python 3",
   "language": "python",
   "name": "python3"
  },
  "language_info": {
   "codemirror_mode": {
    "name": "ipython",
    "version": 3
   },
   "file_extension": ".py",
   "mimetype": "text/x-python",
   "name": "python",
   "nbconvert_exporter": "python",
   "pygments_lexer": "ipython3",
   "version": "3.6.7"
  }
 },
 "nbformat": 4,
 "nbformat_minor": 2
}
