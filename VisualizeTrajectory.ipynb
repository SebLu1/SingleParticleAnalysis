{
 "cells": [
  {
   "cell_type": "code",
   "execution_count": 1,
   "metadata": {},
   "outputs": [],
   "source": [
    "import numpy as np\n",
    "import mrcfile\n",
    "from matplotlib import pyplot as plt\n",
    "# %matplotlib inline\n",
    "import collections\n",
    "import tensorflow as tf\n",
    "from tensorflow import spectral\n",
    "from ClassFiles.relion_fixed_it import load_star\n",
    "from ClassFiles.AdversarialRegularizer import AdversarialRegulariser\n",
    "from ClassFiles.ut import l2\n",
    "from ClassFiles.Utilities import registration\n",
    "from ClassFiles.ut import locate_gt, rfft, irfft, unify_form, Rescaler, find"
   ]
  },
  {
   "cell_type": "code",
   "execution_count": 2,
   "metadata": {},
   "outputs": [],
   "source": [
    "external_path= '/local/scratch/public/sl767/MRC_Data/Data_002_10k/TestAR/'\n",
    "classical_path= '/local/scratch/public/sl767/MRC_Data/Data_002_10k/EM/'\n",
    "debugging_path = '/local/scratch/public/sl767/MRC_Data/Data_002_10k/ValidateExternal'\n",
    "pdb_id = '5A0M' #  9ICA"
   ]
  },
  {
   "cell_type": "code",
   "execution_count": 3,
   "metadata": {},
   "outputs": [],
   "source": [
    "with mrcfile.open(locate_gt(pdb_id, full_path=False)) as mrc:\n",
    "    gt = mrc.data.copy()\n",
    "\n",
    "def find_iteration(k, source=0):\n",
    "    it = ''\n",
    "    if k<10:\n",
    "        it = '0'+str(k)\n",
    "    else:\n",
    "        it = str(k)\n",
    "        \n",
    "    if source==0:\n",
    "        path = external_path+pdb_id\n",
    "        l = find('*it0{}_half2_class001_external_reconstruct.mrc'.format(it),path)\n",
    "    elif source==1:\n",
    "        path = classical_path+pdb_id\n",
    "        l = find('*it0{}_half2_class001.mrc'.format(it),path)\n",
    "    else:\n",
    "        path = debugging_path\n",
    "        l = find('*Iteration_0{}.mrc'.format(it),path)\n",
    "\n",
    "    assert len(l)==1\n",
    "    with mrcfile.open(l[0]) as mrc:\n",
    "        res = mrc.data.copy()\n",
    "    return res\n",
    "\n",
    "def vis(data):\n",
    "    #plt.imshow(im[...,45])\n",
    "#     plt.imshow(np.mean(data.squeeze(), axis=-1))\n",
    "#     plt.imshow(data.squeeze().mean(axis=-1))\n",
    "    plt.imshow(np.maximum(0,data.squeeze()[...,45]))"
   ]
  },
  {
   "cell_type": "code",
   "execution_count": 10,
   "metadata": {},
   "outputs": [],
   "source": [
    "### Crashes!\n",
    "\n",
    "def savefig(array, name):\n",
    "    \"\"\"Pixel perfect image saving.\"\"\"\n",
    "    fig = plt.figure()\n",
    "    ax = plt.Axes(fig, [0., 0., 1., 1.])\n",
    "    ax.set_axis_off()\n",
    "    fig.add_axes(ax)\n",
    "    im = ax.imshow(np.maximum(0,array.squeeze()[...,45]), cmap='gray')\n",
    "    plt.savefig('/home/sl767/Documents/Images/'+name)\n",
    "    plt.close()"
   ]
  },
  {
   "cell_type": "code",
   "execution_count": null,
   "metadata": {},
   "outputs": [],
   "source": []
  },
  {
   "cell_type": "code",
   "execution_count": 11,
   "metadata": {
    "scrolled": false
   },
   "outputs": [],
   "source": [
    "for k in range(13):\n",
    "    plt.figure(k, figsize=(15,5))\n",
    "    plt.subplot(131)\n",
    "    im1 = find_iteration(k+1, source=0)\n",
    "    vis(im1)\n",
    "    plt.colorbar()\n",
    "    plt.subplot(132)\n",
    "    im2=find_iteration(k+1, source=1)\n",
    "    vis(im2)\n",
    "    plt.colorbar()\n",
    "    plt.subplot(133)\n",
    "    vis(gt)\n",
    "    plt.colorbar()\n",
    "    plt.close()\n",
    "    \n",
    "    savefig(im1, 'AR_Iteration_{}.png'.format(k+1))\n",
    "    savefig(im1, 'TY_Iteration_{}.png'.format(k+1))\n",
    "    \n",
    "savefig(gt, 'Ground_Truth.png')"
   ]
  },
  {
   "cell_type": "code",
   "execution_count": null,
   "metadata": {},
   "outputs": [],
   "source": [
    "with mrcfile.open(locate_gt(pdb_id, full_path=False)) as mrc:\n",
    "    gt = mrc.data.copy()\n",
    "gt = unify_form(gt)\n",
    "gt /= np.sum(np.abs(gt))\n",
    "vis(gt)"
   ]
  },
  {
   "cell_type": "code",
   "execution_count": null,
   "metadata": {},
   "outputs": [],
   "source": [
    "reg = registration.LocalRegistrator()"
   ]
  },
  {
   "cell_type": "code",
   "execution_count": null,
   "metadata": {},
   "outputs": [],
   "source": [
    "sjors = find_iteration(7, source=1)\n",
    "sjors = unify_form(sjors)\n",
    "sjors /= np.sum(np.abs(sjors))"
   ]
  },
  {
   "cell_type": "code",
   "execution_count": null,
   "metadata": {},
   "outputs": [],
   "source": []
  },
  {
   "cell_type": "code",
   "execution_count": null,
   "metadata": {},
   "outputs": [],
   "source": [
    "new_gt = reg.register(image=gt, reference=sjors)"
   ]
  },
  {
   "cell_type": "code",
   "execution_count": null,
   "metadata": {},
   "outputs": [],
   "source": [
    "vis(new_gt)"
   ]
  },
  {
   "cell_type": "code",
   "execution_count": null,
   "metadata": {},
   "outputs": [],
   "source": [
    "plt.figure(k, figsize=(18,5))\n",
    "plt.subplot(131)\n",
    "im1 = find_iteration(13, source=0)\n",
    "vis(im1)\n",
    "plt.subplot(132)\n",
    "im2=find_iteration(17, source=1)\n",
    "vis(im2)\n",
    "plt.subplot(133)\n",
    "vis(new_gt)"
   ]
  },
  {
   "cell_type": "code",
   "execution_count": null,
   "metadata": {
    "scrolled": false
   },
   "outputs": [],
   "source": [
    "for k in range(17):\n",
    "    plt.figure(k, figsize=(15,5))\n",
    "    im1 = find_iteration(k+1, source=1)\n",
    "    vis(im1)\n",
    "    plt.colorbar()\n"
   ]
  },
  {
   "cell_type": "code",
   "execution_count": 13,
   "metadata": {},
   "outputs": [
    {
     "data": {
      "image/png": "[encoded data removed]",
      "text/plain": [
       "<Figure size 1080x360 with 3 Axes>"
      ]
     },
     "metadata": {
      "needs_background": "light"
     },
     "output_type": "display_data"
    }
   ],
   "source": [
    "path_f_ar = external_path+pdb_id+'/5A0M_mult002_class001.mrc'\n",
    "path_f_rel = classical_path+pdb_id+'/5A0M_mult002_class001.mrc'\n",
    "with mrcfile.open(path_f_ar) as mrc:\n",
    "    FINAL_AR = mrc.data.copy()\n",
    "with mrcfile.open(path_f_rel) as mrc:\n",
    "    FINAL_REL = mrc.data.copy()\n",
    "    \n",
    "savefig(FINAL_AR, 'AR_final.png')\n",
    "savefig(FINAL_REL, 'TY_final.png')\n",
    "\n",
    "plt.figure(figsize=(15,5))\n",
    "plt.subplot(131)\n",
    "vis(FINAL_AR)\n",
    "plt.subplot(132)\n",
    "vis(FINAL_REL)\n",
    "plt.subplot(133)\n",
    "vis(gt)"
   ]
  },
  {
   "cell_type": "code",
   "execution_count": null,
   "metadata": {},
   "outputs": [],
   "source": [
    "def savefig(array, name, dpi=100.0):\n",
    "    \"\"\"Pixel perfect image saving.\"\"\"\n",
    "    fig = plt.figure(figsize=np.array(array.shape) / dpi, dpi=dpi)\n",
    "    ax = plt.Axes(fig, [0., 0., 1., 1.])\n",
    "    ax.set_axis_off()\n",
    "    fig.add_axes(ax)\n",
    "    im = ax.imshow(array, cmap='gray')\n",
    "    plt.savefig(name)"
   ]
  }
 ],
 "metadata": {
  "kernelspec": {
   "display_name": "Python 3",
   "language": "python",
   "name": "python3"
  },
  "language_info": {
   "codemirror_mode": {
    "name": "ipython",
    "version": 3
   },
   "file_extension": ".py",
   "mimetype": "text/x-python",
   "name": "python",
   "nbconvert_exporter": "python",
   "pygments_lexer": "ipython3",
   "version": "3.6.7"
  }
 },
 "nbformat": 4,
 "nbformat_minor": 2
}
