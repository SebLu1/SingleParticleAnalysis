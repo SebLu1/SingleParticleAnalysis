{
 "cells": [
  {
   "cell_type": "code",
   "execution_count": 40,
   "metadata": {},
   "outputs": [
    {
     "name": "stderr",
     "output_type": "stream",
     "text": [
      "/alt/applic/user-maint/sl767/miniconda3/envs/py3/lib/python3.6/site-packages/mkl_fft/_numpy_fft.py:1170: ComplexWarning: Casting complex values to real discards the imaginary part\n",
      "  output = mkl_fft.irfftn_numpy(a, s, axes)\n"
     ]
    },
    {
     "name": "stdout",
     "output_type": "stream",
     "text": [
      "1.0\n",
      "2.5292e+07 1.90319e+09\n",
      "5.23431e+11 4.3884097113e+12\n",
      "75.2485\n",
      "Fairly constant:  8.38393867077\n",
      "*****************************\n",
      "1.0\n",
      "5.6318e+06 2.38659e+09\n",
      "7.96593e+09 110474976468.0\n",
      "423.771\n",
      "Fairly constant:  13.8684342808\n",
      "*****************************\n",
      "1.0\n",
      "8.65587e+06 3.76974e+09\n",
      "2.56683e+10 250545290189.0\n",
      "435.512\n",
      "Fairly constant:  9.76087557326\n",
      "*****************************\n",
      "1.0\n",
      "9.39483e+06 4.80551e+09\n",
      "3.74931e+10 363802304674.0\n",
      "511.506\n",
      "Fairly constant:  9.70317155536\n",
      "*****************************\n",
      "1.0\n",
      "9.47641e+06 5.05227e+09\n",
      "3.35047e+10 330609299903.0\n",
      "533.141\n",
      "Fairly constant:  9.86753592771\n",
      "*****************************\n",
      "1.0\n",
      "9.5336e+06 6.85247e+09\n",
      "3.48127e+10 341854896936.0\n",
      "718.771\n",
      "Fairly constant:  9.8198275152\n",
      "*****************************\n",
      "1.0\n",
      "9.36227e+06 6.4235e+09\n",
      "3.28812e+10 321579535453.0\n",
      "686.106\n",
      "Fairly constant:  9.78003064445\n",
      "*****************************\n",
      "1.0\n",
      "9.51662e+06 5.89052e+09\n",
      "3.36494e+10 329227584042.0\n",
      "618.972\n",
      "Fairly constant:  9.78406588528\n",
      "*****************************\n",
      "1.0\n",
      "9.55345e+06 6.23347e+09\n",
      "3.33172e+10 326562450046.0\n",
      "652.483\n",
      "Fairly constant:  9.80161270188\n",
      "*****************************\n",
      "1.0\n",
      "9.58171e+06 6.23219e+09\n",
      "3.35144e+10 328392380787.0\n",
      "650.425\n",
      "Fairly constant:  9.79854579808\n",
      "*****************************\n",
      "1.0\n",
      "9.60249e+06 6.24968e+09\n",
      "3.36811e+10 329990707552.0\n",
      "650.839\n",
      "Fairly constant:  9.79751674237\n",
      "*****************************\n",
      "1.0\n",
      "9.61537e+06 8.15765e+09\n",
      "3.37331e+10 330452200333.0\n",
      "848.397\n",
      "Fairly constant:  9.79606925322\n",
      "*****************************\n"
     ]
    }
   ],
   "source": [
    "import mrcfile\n",
    "from ClassFiles.relion_fixed_it import load_star\n",
    "import numpy as np\n",
    "from ClassFiles.ut import rfft, irfft, startingZeros\n",
    "NUM_VOX = 150\n",
    "for k in range(1, 13):\n",
    "    path = '/local/scratch/public/sl767/MRC_Data/RealLifeAR/A2A_VPP/ClassicalRelionWithExtReco/run_it{}_half2_class001_external_reconstruct.star'.format(startingZeros(k))\n",
    "    file=load_star(path)\n",
    "    with mrcfile.open(file['external_reconstruct_general']['rlnExtReconsDataReal']) as mrc:\n",
    "        data_real = mrc.data.copy()\n",
    "    with mrcfile.open(file['external_reconstruct_general']['rlnExtReconsDataImag']) as mrc:\n",
    "        data_im = mrc.data.copy()\n",
    "    with mrcfile.open(file['external_reconstruct_general']['rlnExtReconsWeight']) as mrc:\n",
    "        kernel = mrc.data.copy()\n",
    "    \n",
    "    complex_data=data_real + 1j * data_im\n",
    "    tik_k = kernel+1e6\n",
    "    tikhonov = np.divide(complex_data, tik_k)\n",
    "    l2_cd = np.sqrt(np.sum(np.abs(complex_data) ** 2))\n",
    "    l2_k = np.sqrt(np.sum(np.abs(tik_k) ** 2))\n",
    "    sum_cd = np.sum(irfft(complex_data, scaling=NUM_VOX**2))              \n",
    "    sum_k = np.sum(irfft(tik_k, scaling=NUM_VOX**2))\n",
    "    print(np.sum(np.abs((tik_k * tikhonov)/l2_cd) ** 2))\n",
    "    print(l2_cd, l2_k)\n",
    "    print(sum_cd, sum_k)\n",
    "        print(l2_k/l2_cd)\n",
    "    print('Fairly constant: ', sum_k/sum_cd)\n",
    "    print(\"*****************************\")"
   ]
  },
  {
   "cell_type": "markdown",
   "metadata": {},
   "source": [
    "Note that L1 norm of Fourier(x) is not L1 norm of x. So, we ought to do the rescaling differently?"
   ]
  }
 ],
 "metadata": {
  "kernelspec": {
   "display_name": "Python 3",
   "language": "python",
   "name": "python3"
  },
  "language_info": {
   "codemirror_mode": {
    "name": "ipython",
    "version": 3
   },
   "file_extension": ".py",
   "mimetype": "text/x-python",
   "name": "python",
   "nbconvert_exporter": "python",
   "pygments_lexer": "ipython3",
   "version": "3.6.7"
  }
 },
 "nbformat": 4,
 "nbformat_minor": 2
}
