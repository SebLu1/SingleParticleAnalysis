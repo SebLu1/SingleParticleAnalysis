{
 "cells": [
  {
   "cell_type": "code",
   "execution_count": 1,
   "metadata": {},
   "outputs": [],
   "source": [
    "import numpy as np\n",
    "import mrcfile\n",
    "import platform\n",
    "PLATFORM_NODE = platform.node()\n",
    "import sys\n",
    "if PLATFORM_NODE == 'motel':\n",
    "    sys.path.insert(0, '/home/sl767/PythonCode/SingleParticleAnalysis')\n",
    "elif PLATFORM_NODE == 'radon':\n",
    "    sys.path.insert(0, '/home/zickert/SingleParticleAnalysis')\n",
    "elif 'lmb' in PLATFORM_NODE:\n",
    "    sys.path.insert(0, '/lmb/home/schools1/SingleParticleAnalysis')\n",
    "else:\n",
    "    raise Exception\n",
    "from ClassFiles.relion_fixed_it import load_star\n",
    "from ClassFiles.ut import irfft, rfft\n",
    "import matplotlib.pyplot as plt\n",
    "import os\n",
    "import itertools\n",
    "import subprocess as sp\n",
    "import matplotlib.pyplot as plt\n",
    "\n",
    "#os.environ['CUDA_VISIBLE_DEVICES'] = '3'\n"
   ]
  },
  {
   "cell_type": "code",
   "execution_count": 2,
   "metadata": {},
   "outputs": [],
   "source": [
    "def runCommand(cmd_string, file_path=None):\n",
    "    if file_path is None:\n",
    "        sp.call(cmd_string.split(' '))\n",
    "    else:\n",
    "        file = open(file_path, 'w')\n",
    "        sp.call(cmd_string.split(' '), stdout=file)\n",
    "        file.close()\n",
    "\n",
    "\n",
    "def fsc(path_reco, path_gt):\n",
    "    masked_path = path_reco[:-4] + '_masked.mrc'\n",
    "    mask_path = '/mnt/datahd/zickert/copy_beegfs3/Test_Learned_Priors/Data/SimDataPaper/Data_001_10k/train/masks/4A2B/mask.mrc'\n",
    "    mask_log_path = path_reco[:-4] + '_masking_log.txt'\n",
    "    fsc_path = path_reco[:-4] + '_masked_fsc_gt.star'\n",
    "        \n",
    "    MULT_COMMAND = 'relion_image_handler --i {} --o {} --multiply {}'.format(path_reco, masked_path, mask_path)   \n",
    "    runCommand(MULT_COMMAND, mask_log_path)\n",
    "\n",
    "    FSC_COMMAND = 'relion_image_handler --i {} --fsc {} --angpix 1.5'.format(masked_path, path_gt)\n",
    "    runCommand(FSC_COMMAND, fsc_path)\n",
    " \n",
    "    FSC_dict = load_star(fsc_path)\n",
    "    RES = np.array(FSC_dict['fsc']['rlnAngstromResolution'], dtype='float32')\n",
    "    RES_inv = np.array(FSC_dict['fsc']['rlnResolution'], dtype='float32')\n",
    "    FSC = np.array(FSC_dict['fsc']['rlnFourierShellCorrelation'], dtype='float32')\n",
    "\n",
    "    return RES_inv, FSC"
   ]
  },
  {
   "cell_type": "code",
   "execution_count": 3,
   "metadata": {},
   "outputs": [],
   "source": [
    "PATH_GT = '/mnt/datahd/zickert/copy_beegfs3/Test_Learned_Priors/Data/SimDataPaper/Data_001_10k/train/mult_maps/4A2B/4A2B_mult001.mrc'"
   ]
  },
  {
   "cell_type": "code",
   "execution_count": 10,
   "metadata": {},
   "outputs": [],
   "source": [
    "#PATH_RECO = '/mnt/datahd/zickert/copy_beegfs3_pos_net/Test_Learned_Priors/Data/SimDataPaper/Data_001_10k/train/AR_REG_PAR_10000_TIK_REG_0.001_INI_POINT_tik_masked/4A2B/4A2B_mult001_class001.mrc'\n",
    "#RES_inv, FSC = fsc(PATH_RECO, PATH_GT)"
   ]
  },
  {
   "cell_type": "code",
   "execution_count": 5,
   "metadata": {},
   "outputs": [],
   "source": [
    "PATH_BASE_CLASSICAL = '/mnt/datahd/zickert/copy_beegfs3/Test_sjors/Data/SimDataPaper/Data_001_10k/4A2B/4A2B_mult001_tau{}_class001.mrc'"
   ]
  },
  {
   "cell_type": "code",
   "execution_count": 6,
   "metadata": {},
   "outputs": [],
   "source": [
    "Classical_fsc = []\n",
    "for tau in [4, 8, 12, 16]:\n",
    "    Classical_fsc.append(fsc(PATH_BASE_CLASSICAL.format(tau), PATH_GT))"
   ]
  },
  {
   "cell_type": "code",
   "execution_count": 15,
   "metadata": {},
   "outputs": [],
   "source": [
    "PATH_BASE_AR_POS_NET = '/mnt/datahd/zickert/copy_beegfs3_pos_net/Test_Learned_Priors/Data/SimDataPaper/Data_001_10k/train/AR_REG_PAR_{}_TIK_REG_0.001_INI_POINT_tik_masked/4A2B/4A2B_mult001_class001.mrc'\n",
    "AR_POS_NET_fsc = []\n",
    "for ar in [0, 2500, 5000, 10000]:#[0, 2500, 5000, 10000, 12500, 15000, 17500, 20000, 25000, 30000, 50000, 100000]:\n",
    "        AR_POS_NET_fsc.append(fsc(PATH_BASE_AR_POS_NET.format(ar), PATH_GT))\n",
    "        \n",
    "PATH_BASE_AR = '/mnt/datahd/zickert/copy_beegfs3/Test_Learned_Priors/Data/SimDataPaper/Data_001_10k/train/AR_REG_PAR_{}_TIK_REG_0.001_INI_POINT_tik_masked/4A2B/4A2B_mult001_class001.mrc'\n",
    "AR_fsc = []\n",
    "for ar in [0, 2500, 5000, 10000]:#[0, 2500, 5000, 10000, 12500, 15000, 17500, 20000, 25000, 30000, 50000, 100000]:\n",
    "        AR_fsc.append(fsc(PATH_BASE_AR.format(ar), PATH_GT))"
   ]
  },
  {
   "cell_type": "code",
   "execution_count": 17,
   "metadata": {},
   "outputs": [
    {
     "data": {
      "text/plain": [
       "<matplotlib.legend.Legend at 0x7f64c35a1780>"
      ]
     },
     "execution_count": 17,
     "metadata": {},
     "output_type": "execute_result"
    },
    {
     "data": {
      "image/png": "[encoded data removed]",
      "text/plain": [
       "<Figure size 432x288 with 1 Axes>"
      ]
     },
     "metadata": {
      "needs_background": "light"
     },
     "output_type": "display_data"
    }
   ],
   "source": [
    "TAUS = [4, 8, 12, 16]\n",
    "#for k, tau in enumerate(TAUS):\n",
    "#    plt.plot(Classical_fsc[k][0], Classical_fsc[k][1], label='relion_tau{}'.format(tau))\n",
    "\n",
    "AR_REG_PARS = [0, 10000]#, 12500, 15000, 17500, 20000, 25000, 30000, 50000, 100000]\n",
    "for k, ar in enumerate(AR_REG_PARS):\n",
    "    plt.plot(AR_POS_NET_fsc[k][0], AR_POS_NET_fsc[k][1], label='relion_AR_POS_NET_REG{}'.format(ar))   \n",
    "    plt.plot(AR_fsc[k][0], AR_fsc[k][1], label='relion_AR_REG{}'.format(ar))   \n",
    "    \n",
    "plt.xlabel('resolution [Å^{-1}]')\n",
    "plt.ylabel('FSC')\n",
    "\n",
    "\n",
    "\n",
    "plt.legend()"
   ]
  },
  {
   "cell_type": "code",
   "execution_count": null,
   "metadata": {},
   "outputs": [],
   "source": []
  },
  {
   "cell_type": "code",
   "execution_count": null,
   "metadata": {},
   "outputs": [],
   "source": []
  }
 ],
 "metadata": {
  "kernelspec": {
   "display_name": "Python 3",
   "language": "python",
   "name": "python3"
  },
  "language_info": {
   "codemirror_mode": {
    "name": "ipython",
    "version": 3
   },
   "file_extension": ".py",
   "mimetype": "text/x-python",
   "name": "python",
   "nbconvert_exporter": "python",
   "pygments_lexer": "ipython3",
   "version": "3.6.8"
  }
 },
 "nbformat": 4,
 "nbformat_minor": 2
}
