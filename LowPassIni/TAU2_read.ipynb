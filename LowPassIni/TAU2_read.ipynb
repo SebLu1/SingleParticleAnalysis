{
 "cells": [
  {
   "cell_type": "code",
   "execution_count": 4,
   "metadata": {},
   "outputs": [],
   "source": [
    "import numpy as np\n",
    "import mrcfile\n",
    "import platform\n",
    "PLATFORM_NODE = platform.node()\n",
    "import sys\n",
    "if PLATFORM_NODE == 'radon':\n",
    "    sys.path.insert(0, '/home/zickert/SingleParticleAnalysis')\n",
    "from ClassFiles.relion_fixed_it import load_star"
   ]
  },
  {
   "cell_type": "code",
   "execution_count": 5,
   "metadata": {},
   "outputs": [],
   "source": [
    "star_path = '/mnt/datahd/zickert/MRC_Data/Data/SimDataPaper/Data_001_10k/train/def_masked/10MH/10MH_mult001_it002_half1_class001_external_reconstruct.star'"
   ]
  },
  {
   "cell_type": "code",
   "execution_count": 6,
   "metadata": {},
   "outputs": [],
   "source": [
    "star_file = load_star(star_path)"
   ]
  },
  {
   "cell_type": "code",
   "execution_count": 13,
   "metadata": {},
   "outputs": [],
   "source": [
    "TAU2 = star_file['external_reconstruct_tau2']['rlnReferenceTau2']"
   ]
  },
  {
   "cell_type": "code",
   "execution_count": 14,
   "metadata": {},
   "outputs": [
    {
     "name": "stdout",
     "output_type": "stream",
     "text": [
      "['6.330595e-06', '2.659678e-05', '4.397994e-05', '6.187132e-05', '8.184987e-05', '1.044440e-04', '6.822610e-05', '3.228288e-05', '1.637555e-05', '1.200298e-05', '5.204907e-06', '5.044059e-06', '6.655189e-06', '3.335387e-06', '1.875315e-06', '5.712486e-06', '4.227912e-06', '1.555279e-06', '4.214549e-10', '7.083924e-07', '1.075211e-06', '8.170493e-07', '1.844104e-07', '3.124961e-07', '6.656684e-07', '4.757650e-07', '0.000000', '0.000000', '0.000000', '0.000000', '0.000000', '0.000000', '0.000000', '0.000000', '0.000000', '0.000000', '0.000000', '0.000000', '0.000000', '0.000000', '0.000000', '0.000000', '0.000000', '0.000000', '0.000000', '0.000000', '0.000000', '0.000000', '0.000000']\n"
     ]
    }
   ],
   "source": [
    "print(TAU2)"
   ]
  },
  {
   "cell_type": "code",
   "execution_count": null,
   "metadata": {},
   "outputs": [],
   "source": []
  }
 ],
 "metadata": {
  "kernelspec": {
   "display_name": "Python 3",
   "language": "python",
   "name": "python3"
  },
  "language_info": {
   "codemirror_mode": {
    "name": "ipython",
    "version": 3
   },
   "file_extension": ".py",
   "mimetype": "text/x-python",
   "name": "python",
   "nbconvert_exporter": "python",
   "pygments_lexer": "ipython3",
   "version": "3.6.8"
  }
 },
 "nbformat": 4,
 "nbformat_minor": 2
}
