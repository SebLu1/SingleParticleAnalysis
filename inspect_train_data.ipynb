{
 "cells": [
  {
   "cell_type": "code",
   "execution_count": 15,
   "metadata": {},
   "outputs": [],
   "source": [
    "import mrcfile\n",
    "import numpy as np\n",
    "from ClassFiles.ut import find\n",
    "import matplotlib\n",
    "%matplotlib inline\n",
    "import matplotlib.pyplot as plt\n",
    "\n",
    "from ClassFiles.ut import getRecos\n",
    "\n",
    "\n",
    "base = '/local/scratch/public/sl767/MRC_Data/'\n",
    "\n",
    "train_list_sgd_001 = getRecos('01', 'EM', eval_data=True, iter='All')\n",
    "train_list_sgd_0016 = getRecos('016', 'SGD')\n",
    "train_list_sgd_002 = getRecos('02', 'SGD')\n",
    "train_list_em_001 = getRecos('01', 'EM')\n",
    "train_list_em_0016 = getRecos('016', 'EM')\n",
    "train_list_em_002 = getRecos('02', 'EM')"
   ]
  },
  {
   "cell_type": "code",
   "execution_count": 8,
   "metadata": {},
   "outputs": [],
   "source": [
    "def locate_gt(path):\n",
    "    pdb_id = path.split('/')[-1][:4]\n",
    "    L = find('*' + pdb_id + '.mrc', GT_PATH)\n",
    "    if not len(L) == 1:\n",
    "        raise ValueError('non-unique pdb id: ' + str(L))\n",
    "    else:\n",
    "#        print(pdb_id)\n",
    "        return L[0]\n",
    "\n",
    "\n",
    "def get_image(n, adv_path):\n",
    "    with mrcfile.open(adv_path) as mrc:\n",
    "        adv = mrc.data\n",
    "    with mrcfile.open(locate_gt(adv_path)) as mrc:\n",
    "        gt = mrc.data\n",
    "    return n, gt, adv"
   ]
  },
  {
   "cell_type": "code",
   "execution_count": 9,
   "metadata": {},
   "outputs": [],
   "source": [
    "def vis_pairs(n, gt, adv):\n",
    "    plt.figure(n, figsize=(15, 4))\n",
    "    plt.subplot(121)\n",
    "    plt.imshow(np.mean(gt.squeeze(), axis=-1))\n",
    "    plt.colorbar()\n",
    "    plt.subplot(122)\n",
    "    plt.imshow(np.mean(adv.squeeze(), axis=-1))\n",
    "    plt.colorbar()\n",
    "    plt.show()"
   ]
  },
  {
   "cell_type": "code",
   "execution_count": 16,
   "metadata": {},
   "outputs": [
    {
     "data": {
      "text/plain": [
       "['/local/scratch/public/sl767/MRC_Data/Data/Data_001_10k/eval/EM/5A0M/5A0M_mult001_class001.mrc',\n",
       " '/local/scratch/public/sl767/MRC_Data/Data/Data_001_10k/eval/EM/5A0M/5A0M_mult001_it000_half2_class001.mrc',\n",
       " '/local/scratch/public/sl767/MRC_Data/Data/Data_001_10k/eval/EM/5A0M/5A0M_mult001_it000_half1_class001.mrc',\n",
       " '/local/scratch/public/sl767/MRC_Data/Data/Data_001_10k/eval/EM/5A0M/5A0M_mult001_it001_half2_class001.mrc',\n",
       " '/local/scratch/public/sl767/MRC_Data/Data/Data_001_10k/eval/EM/5A0M/5A0M_mult001_it001_half1_class001.mrc',\n",
       " '/local/scratch/public/sl767/MRC_Data/Data/Data_001_10k/eval/EM/5A0M/5A0M_mult001_it002_half2_class001.mrc',\n",
       " '/local/scratch/public/sl767/MRC_Data/Data/Data_001_10k/eval/EM/5A0M/5A0M_mult001_it002_half1_class001.mrc',\n",
       " '/local/scratch/public/sl767/MRC_Data/Data/Data_001_10k/eval/EM/5A0M/5A0M_mult001_it003_half1_class001.mrc',\n",
       " '/local/scratch/public/sl767/MRC_Data/Data/Data_001_10k/eval/EM/5A0M/5A0M_mult001_it003_half2_class001.mrc',\n",
       " '/local/scratch/public/sl767/MRC_Data/Data/Data_001_10k/eval/EM/5A0M/5A0M_mult001_it004_half2_class001.mrc',\n",
       " '/local/scratch/public/sl767/MRC_Data/Data/Data_001_10k/eval/EM/5A0M/5A0M_mult001_it004_half1_class001.mrc',\n",
       " '/local/scratch/public/sl767/MRC_Data/Data/Data_001_10k/eval/EM/5A0M/5A0M_mult001_it005_half2_class001.mrc',\n",
       " '/local/scratch/public/sl767/MRC_Data/Data/Data_001_10k/eval/EM/5A0M/5A0M_mult001_it005_half1_class001.mrc',\n",
       " '/local/scratch/public/sl767/MRC_Data/Data/Data_001_10k/eval/EM/5A0M/5A0M_mult001_it006_half2_class001.mrc',\n",
       " '/local/scratch/public/sl767/MRC_Data/Data/Data_001_10k/eval/EM/5A0M/5A0M_mult001_it006_half1_class001.mrc',\n",
       " '/local/scratch/public/sl767/MRC_Data/Data/Data_001_10k/eval/EM/5A0M/5A0M_mult001_it007_half2_class001.mrc',\n",
       " '/local/scratch/public/sl767/MRC_Data/Data/Data_001_10k/eval/EM/5A0M/5A0M_mult001_it007_half1_class001.mrc',\n",
       " '/local/scratch/public/sl767/MRC_Data/Data/Data_001_10k/eval/EM/5A0M/5A0M_mult001_it008_half2_class001.mrc',\n",
       " '/local/scratch/public/sl767/MRC_Data/Data/Data_001_10k/eval/EM/5A0M/5A0M_mult001_it008_half1_class001.mrc',\n",
       " '/local/scratch/public/sl767/MRC_Data/Data/Data_001_10k/eval/EM/5A0M/5A0M_mult001_it009_half2_class001.mrc',\n",
       " '/local/scratch/public/sl767/MRC_Data/Data/Data_001_10k/eval/EM/5A0M/5A0M_mult001_it009_half1_class001.mrc',\n",
       " '/local/scratch/public/sl767/MRC_Data/Data/Data_001_10k/eval/EM/5A0M/5A0M_mult001_it010_half2_class001.mrc',\n",
       " '/local/scratch/public/sl767/MRC_Data/Data/Data_001_10k/eval/EM/5A0M/5A0M_mult001_it010_half1_class001.mrc',\n",
       " '/local/scratch/public/sl767/MRC_Data/Data/Data_001_10k/eval/EM/5A0M/5A0M_mult001_it011_half2_class001.mrc',\n",
       " '/local/scratch/public/sl767/MRC_Data/Data/Data_001_10k/eval/EM/5A0M/5A0M_mult001_it011_half1_class001.mrc',\n",
       " '/local/scratch/public/sl767/MRC_Data/Data/Data_001_10k/eval/EM/5A0M/5A0M_mult001_it012_half2_class001.mrc',\n",
       " '/local/scratch/public/sl767/MRC_Data/Data/Data_001_10k/eval/EM/5A0M/5A0M_mult001_it012_half1_class001.mrc',\n",
       " '/local/scratch/public/sl767/MRC_Data/Data/Data_001_10k/eval/EM/5A0M/5A0M_mult001_it013_half2_class001.mrc',\n",
       " '/local/scratch/public/sl767/MRC_Data/Data/Data_001_10k/eval/EM/5A0M/5A0M_mult001_it013_half1_class001.mrc']"
      ]
     },
     "execution_count": 16,
     "metadata": {},
     "output_type": "execute_result"
    }
   ],
   "source": [
    "train_list_sgd_001"
   ]
  },
  {
   "cell_type": "code",
   "execution_count": 4,
   "metadata": {},
   "outputs": [],
   "source": [
    "for n, p in enumerate(train_list_sgd_001):\n",
    "    print(p)\n",
    "    vis_pairs(*get_image(n, p))"
   ]
  },
  {
   "cell_type": "code",
   "execution_count": 5,
   "metadata": {},
   "outputs": [],
   "source": [
    "for n, p in enumerate(train_list_em_001):\n",
    "    print(p)\n",
    "    vis_pairs(*get_image(n, p))"
   ]
  },
  {
   "cell_type": "code",
   "execution_count": null,
   "metadata": {},
   "outputs": [],
   "source": [
    "for n, p in enumerate(train_list_sgd_002):\n",
    "    print(p)\n",
    "    vis_pairs(*get_image(n, p))"
   ]
  },
  {
   "cell_type": "code",
   "execution_count": null,
   "metadata": {},
   "outputs": [],
   "source": [
    "for n, p in enumerate(train_list_em_002):\n",
    "    print(p)\n",
    "    vis_pairs(*get_image(n, p))"
   ]
  },
  {
   "cell_type": "code",
   "execution_count": null,
   "metadata": {},
   "outputs": [],
   "source": [
    "for n, p in enumerate(train_list_sgd_0016):\n",
    "    print(p)\n",
    "    vis_pairs(*get_image(n, p))\n"
   ]
  },
  {
   "cell_type": "code",
   "execution_count": null,
   "metadata": {},
   "outputs": [],
   "source": [
    "for n, p in enumerate(train_list_em_0016):\n",
    "    print(p)\n",
    "    vis_pairs(*get_image(n, p))"
   ]
  },
  {
   "cell_type": "code",
   "execution_count": 4,
   "metadata": {},
   "outputs": [],
   "source": [
    "# with mrcfile.open('/local/scratch/public/sl767/MRC_Data/Data_002_10k/TestAR/9ICA/9ICA_mult002_it001_half2_class001_external_reconstruct.mrc') as mrc:\n",
    "#     reco = mrc.data\n",
    "def vis_beauty(data, fourier=True):\n",
    "    #plt.imshow(im[...,45])\n",
    "    plt.imshow(np.mean(data.squeeze(), axis=-1))\n",
    "    \n",
    "#vis_beauty(reco)\n",
    "#vis(*get_image(0, True))"
   ]
  },
  {
   "cell_type": "code",
   "execution_count": null,
   "metadata": {},
   "outputs": [],
   "source": [
    "x = '9ICA_mult002_it001_half2_class001_external_reconstruct.star'\n",
    "int(x[-29:-26])"
   ]
  },
  {
   "cell_type": "code",
   "execution_count": null,
   "metadata": {},
   "outputs": [],
   "source": [
    "s = 'this/is/for/testing'\n",
    "for sub_s in s.split('/'):\n",
    "    print(sub_s)"
   ]
  },
  {
   "cell_type": "code",
   "execution_count": null,
   "metadata": {},
   "outputs": [],
   "source": [
    "pp_path = '/local/scratch/public/sl767/MRC_Data/Data_002_10k/EM/3NKS/3NKS_mult002.mrc'\n",
    "with mrcfile.open(pp_path) as mrc:\n",
    "    pp = mrc.data\n",
    "vis_beauty(pp)"
   ]
  },
  {
   "cell_type": "code",
   "execution_count": null,
   "metadata": {},
   "outputs": [],
   "source": []
  },
  {
   "cell_type": "code",
   "execution_count": 12,
   "metadata": {},
   "outputs": [
    {
     "data": {
      "image/png": "[encoded data removed]",
      "text/plain": [
       "<Figure size 432x288 with 1 Axes>"
      ]
     },
     "metadata": {
      "needs_background": "light"
     },
     "output_type": "display_data"
    }
   ],
   "source": [
    "# temporary stuff\n",
    "import matplotlib.pyplot as plt\n",
    "import mrcfile\n",
    "import numpy as np\n",
    "# with mrcfile.open('/local/scratch/public/sl767/MRC_Data/Data_002_10k/TestAR/9ICA/9ICA_mult002_it001_half2_class001_external_reconstruct.mrc') as mrc:\n",
    "#     reco = mrc.data\n",
    "def vis_beauty(data, fourier=True):\n",
    "    #plt.imshow(im[...,45])\n",
    "    plt.imshow(np.mean(data.squeeze(), axis=-1))\n",
    "    \n",
    "#vis_beauty(reco)\n",
    "#vis(*get_image(0, True))\n",
    "path = '/local/scratch/public/sl767/MRC_Data/RealLife/A2A_VPP/reconst_half1_unfil_downsampled.mrc'\n",
    "with mrcfile.open(path) as mrc:\n",
    "    p = mrc.data\n",
    "vis_beauty(p)"
   ]
  },
  {
   "cell_type": "code",
   "execution_count": 13,
   "metadata": {},
   "outputs": [
    {
     "data": {
      "text/plain": [
       "(96, 96, 96)"
      ]
     },
     "execution_count": 13,
     "metadata": {},
     "output_type": "execute_result"
    }
   ],
   "source": [
    "p.shape"
   ]
  },
  {
   "cell_type": "code",
   "execution_count": null,
   "metadata": {},
   "outputs": [],
   "source": []
  }
 ],
 "metadata": {
  "kernelspec": {
   "display_name": "Python 3",
   "language": "python",
   "name": "python3"
  },
  "language_info": {
   "codemirror_mode": {
    "name": "ipython",
    "version": 3
   },
   "file_extension": ".py",
   "mimetype": "text/x-python",
   "name": "python",
   "nbconvert_exporter": "python",
   "pygments_lexer": "ipython3",
   "version": "3.6.7"
  }
 },
 "nbformat": 4,
 "nbformat_minor": 2
}
