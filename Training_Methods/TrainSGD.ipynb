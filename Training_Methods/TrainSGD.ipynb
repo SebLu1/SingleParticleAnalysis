{
 "cells": [
  {
   "cell_type": "code",
   "execution_count": 1,
   "metadata": {
    "collapsed": true,
    "deletable": true,
    "editable": true
   },
   "outputs": [],
   "source": [
    "import mrcfile\n",
    "import numpy as np\n",
    "from subprocess import call\n",
    "import matplotlib\n",
    "%matplotlib inline\n",
    "from matplotlib import pyplot as plt\n",
    "import os\n",
    "import fnmatch\n",
    "from ClassFiles.ut import create_single_folder\n",
    "from ClassFiles.Framework import AdversarialRegulariser\n",
    "import random"
   ]
  },
  {
   "cell_type": "code",
   "execution_count": 2,
   "metadata": {
    "collapsed": true,
    "deletable": true,
    "editable": true
   },
   "outputs": [],
   "source": [
    "def find(pattern, path):\n",
    "    result = []\n",
    "    for root, dirs, files in os.walk(path):\n",
    "        for name in files:\n",
    "            if fnmatch.fnmatch(name, pattern):\n",
    "                result.append(os.path.join(root, name).replace(\"\\\\\", \"/\"))\n",
    "    return result"
   ]
  },
  {
   "cell_type": "code",
   "execution_count": 3,
   "metadata": {
    "collapsed": true,
    "deletable": true,
    "editable": true
   },
   "outputs": [],
   "source": [
    "path = '/local/scratch/public/sl767/MRC_Data/org/'\n",
    "path_adv = '/local/scratch/public/sl767/MRC_Data/Data_002_10k/SGD'"
   ]
  },
  {
   "cell_type": "code",
   "execution_count": 4,
   "metadata": {
    "collapsed": false,
    "deletable": true,
    "editable": true
   },
   "outputs": [
    {
     "name": "stdout",
     "output_type": "stream",
     "text": [
      "Training Pictures found: 1\n",
      "Evaluation Pictures found: 0\n"
     ]
    }
   ],
   "source": [
    "train_list = find('*it300_class001.mrc*', path_adv)\n",
    "train_amount = len(train_list)\n",
    "print('Training Pictures found: ' + str(train_amount))\n",
    "eval_list = ''\n",
    "eval_amount = len(eval_list)\n",
    "print('Evaluation Pictures found: ' + str(eval_amount))"
   ]
  },
  {
   "cell_type": "code",
   "execution_count": 5,
   "metadata": {
    "collapsed": true,
    "deletable": true,
    "editable": true
   },
   "outputs": [],
   "source": [
    "def locate_gt(adversarial_path):\n",
    "    pdb_id = adversarial_path[-31:-27]\n",
    "    l = find('*'+pdb_id+'.mrc', path)\n",
    "    if not len(l)==1:\n",
    "        raise ValueError('non-unique pdb id: '+l)\n",
    "    else:\n",
    "        return l[0]"
   ]
  },
  {
   "cell_type": "code",
   "execution_count": 6,
   "metadata": {
    "collapsed": true,
    "deletable": true,
    "editable": true
   },
   "outputs": [],
   "source": [
    "def get_image(number, training):\n",
    "    if training:\n",
    "        L = train_list\n",
    "    else:\n",
    "        L = eval_list\n",
    "    adv_path=L[number]\n",
    "    with mrcfile.open(adv_path) as mrc:\n",
    "        adv = mrc.data\n",
    "    with mrcfile.open(locate_gt(adv_path)) as mrc:\n",
    "        gt = mrc.data\n",
    "    return gt, adv\n",
    "\n",
    "def load_data(training_data=True):\n",
    "    if training_data:\n",
    "        n = train_amount\n",
    "    else:\n",
    "        n = eval_amount\n",
    "    return get_image(random.randint(0, n-1), training=training_data)"
   ]
  },
  {
   "cell_type": "code",
   "execution_count": 7,
   "metadata": {
    "collapsed": true,
    "deletable": true,
    "editable": true
   },
   "outputs": [],
   "source": [
    "BATCH_SIZE=1\n",
    "def get_batch(training_data=True):\n",
    "    true = np.zeros(shape=(BATCH_SIZE, 96,96,96))\n",
    "    adv = np.zeros(shape=(BATCH_SIZE, 96,96,96))\n",
    "    for k in range(BATCH_SIZE):\n",
    "        gt, adver = load_data(training_data=training_data)\n",
    "        true[k,...]=gt\n",
    "        adv[k,...]=adver\n",
    "    return gt,adv"
   ]
  },
  {
   "cell_type": "code",
   "execution_count": 8,
   "metadata": {
    "collapsed": false,
    "deletable": true,
    "editable": true
   },
   "outputs": [
    {
     "name": "stdout",
     "output_type": "stream",
     "text": [
      "No save found\n"
     ]
    }
   ],
   "source": [
    "saves_path = '/local/scratch/public/sl767/SPA/Saves/Adversarial_Regulariser/SGD_Trained'\n",
    "regularizer = AdversarialRegulariser(saves_path)"
   ]
  },
  {
   "cell_type": "code",
   "execution_count": 9,
   "metadata": {
    "collapsed": true,
    "deletable": true,
    "editable": true
   },
   "outputs": [],
   "source": [
    "def evaluate():\n",
    "    gt, adv = get_batch(training_data=True)\n",
    "    regularizer.test(groundTruth=gt, adversarial=adv, fourier_data =False)\n",
    "\n",
    "LEARNING_RATE=0.001\n",
    "def train(steps):\n",
    "    for k in range(steps):\n",
    "        gt, adv = get_batch()\n",
    "        regularizer.train(groundTruth=gt, adversarial=adv, learning_rate=LEARNING_RATE, fourier_data =False)\n",
    "        if k%10==0:\n",
    "            evaluate()\n",
    "    regularizer.save()"
   ]
  },
  {
   "cell_type": "code",
   "execution_count": 10,
   "metadata": {
    "collapsed": false,
    "deletable": true,
    "editable": true
   },
   "outputs": [
    {
     "name": "stdout",
     "output_type": "stream",
     "text": [
      "Progress saved\n",
      "Progress saved\n",
      "Progress saved\n",
      "Progress saved\n",
      "Progress saved\n"
     ]
    }
   ],
   "source": [
    "for k in range(5):\n",
    "    train(100)"
   ]
  },
  {
   "cell_type": "code",
   "execution_count": null,
   "metadata": {
    "collapsed": true,
    "deletable": true,
    "editable": true
   },
   "outputs": [],
   "source": []
  }
 ],
 "metadata": {
  "kernelspec": {
   "display_name": "Python 2",
   "language": "python",
   "name": "python2"
  },
  "language_info": {
   "codemirror_mode": {
    "name": "ipython",
    "version": 2
   },
   "file_extension": ".py",
   "mimetype": "text/x-python",
   "name": "python",
   "nbconvert_exporter": "python",
   "pygments_lexer": "ipython2",
   "version": "2.7.14"
  }
 },
 "nbformat": 4,
 "nbformat_minor": 2
}
