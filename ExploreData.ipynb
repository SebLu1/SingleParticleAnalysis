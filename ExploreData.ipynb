{
 "cells": [
  {
   "cell_type": "code",
   "execution_count": 11,
   "metadata": {},
   "outputs": [],
   "source": [
    "import numpy as np\n",
    "import mrcfile\n",
    "from matplotlib import pyplot as plt\n",
    "%matplotlib inline\n",
    "import collections\n",
    "import tensorflow as tf\n",
    "from tensorflow import spectral"
   ]
  },
  {
   "cell_type": "code",
   "execution_count": null,
   "metadata": {},
   "outputs": [],
   "source": [
    "from relion_fixed_it import load_star"
   ]
  },
  {
   "cell_type": "code",
   "execution_count": null,
   "metadata": {},
   "outputs": [],
   "source": [
    "sess = tf.InteractiveSession()\n",
    "base_path = '/local/scratch/public/sl767/SPA/playing2/'\n",
    "path=base_path+'Refine3D/1Q9J/1Q9J_mult005_it013_class001_external_reconstruct.star'"
   ]
  },
  {
   "cell_type": "code",
   "execution_count": null,
   "metadata": {},
   "outputs": [],
   "source": [
    "file=load_star(path)"
   ]
  },
  {
   "cell_type": "code",
   "execution_count": null,
   "metadata": {},
   "outputs": [],
   "source": [
    "type(file)"
   ]
  },
  {
   "cell_type": "code",
   "execution_count": null,
   "metadata": {
    "scrolled": true
   },
   "outputs": [],
   "source": [
    "for key, data in file.items():\n",
    "    print(key)"
   ]
  },
  {
   "cell_type": "code",
   "execution_count": null,
   "metadata": {
    "scrolled": true
   },
   "outputs": [],
   "source": [
    "for key, data in file['external_reconstruct_general'].items():\n",
    "    print(key)\n",
    "    print(data)"
   ]
  },
  {
   "cell_type": "code",
   "execution_count": null,
   "metadata": {},
   "outputs": [],
   "source": [
    "with mrcfile.open(base_path+file['external_reconstruct_general']['rlnExtReconsDataReal']) as mrc:\n",
    "    data_real = mrc.data\n",
    "with mrcfile.open(base_path+file['external_reconstruct_general']['rlnExtReconsDataImag']) as mrc:\n",
    "    data_im = mrc.data\n",
    "with mrcfile.open(base_path+file['external_reconstruct_general']['rlnExtReconsWeight']) as mrc:\n",
    "    kernel = mrc.data"
   ]
  },
  {
   "cell_type": "code",
   "execution_count": null,
   "metadata": {},
   "outputs": [],
   "source": [
    "complex_data = data_real + 1j * data_im"
   ]
  },
  {
   "cell_type": "code",
   "execution_count": null,
   "metadata": {},
   "outputs": [],
   "source": [
    "complex_data.shape"
   ]
  },
  {
   "cell_type": "code",
   "execution_count": null,
   "metadata": {},
   "outputs": [],
   "source": [
    "data = tf.placeholder(shape=(96, 96, 49), dtype=tf.complex64)\n",
    "ft = spectral.irfft3d(data)"
   ]
  },
  {
   "cell_type": "code",
   "execution_count": null,
   "metadata": {},
   "outputs": [],
   "source": [
    "image = sess.run(ft, feed_dict={data: complex_data})"
   ]
  },
  {
   "cell_type": "code",
   "execution_count": null,
   "metadata": {},
   "outputs": [],
   "source": [
    "image.shape"
   ]
  },
  {
   "cell_type": "code",
   "execution_count": null,
   "metadata": {},
   "outputs": [],
   "source": [
    "plt.imshow(image[...,40])"
   ]
  },
  {
   "cell_type": "code",
   "execution_count": null,
   "metadata": {
    "scrolled": true
   },
   "outputs": [],
   "source": [
    "plt.imshow(data_real[...,20])"
   ]
  },
  {
   "cell_type": "code",
   "execution_count": null,
   "metadata": {},
   "outputs": [],
   "source": [
    "new_conv = np.fft.fftshift(complex_data, axes=(0, 1))\n",
    "plt.imshow(np.real(new_conv[...,0]))\n",
    "plt.clim(-1e7,1e7)"
   ]
  },
  {
   "cell_type": "code",
   "execution_count": null,
   "metadata": {},
   "outputs": [],
   "source": [
    "image = sess.run(ft, feed_dict={data: new_conv})"
   ]
  },
  {
   "cell_type": "code",
   "execution_count": null,
   "metadata": {},
   "outputs": [],
   "source": [
    "plt.imshow(image[...,0])"
   ]
  },
  {
   "cell_type": "code",
   "execution_count": null,
   "metadata": {},
   "outputs": [],
   "source": [
    "image.shape"
   ]
  },
  {
   "cell_type": "code",
   "execution_count": null,
   "metadata": {},
   "outputs": [],
   "source": [
    "new_conv.max()"
   ]
  },
  {
   "cell_type": "code",
   "execution_count": null,
   "metadata": {},
   "outputs": [],
   "source": [
    "with mrcfile.open('/local/scratch/public/sl767/SPA/playing2/1Q9J.mrc') as mrc:\n",
    "    molecule = mrc.data"
   ]
  },
  {
   "cell_type": "code",
   "execution_count": null,
   "metadata": {},
   "outputs": [],
   "source": [
    "real_inp = tf.placeholder(shape=(96,96,96), dtype=tf.float32)\n",
    "fourierData = spectral.rfft3d(real_inp)"
   ]
  },
  {
   "cell_type": "code",
   "execution_count": null,
   "metadata": {},
   "outputs": [],
   "source": [
    "plt.imshow(molecule[...,20])"
   ]
  },
  {
   "cell_type": "code",
   "execution_count": null,
   "metadata": {},
   "outputs": [],
   "source": [
    "fou = sess.run(fourierData, feed_dict={real_inp: molecule})"
   ]
  },
  {
   "cell_type": "code",
   "execution_count": null,
   "metadata": {},
   "outputs": [],
   "source": [
    "plt.imshow(np.real(fou[...,20]))"
   ]
  },
  {
   "cell_type": "code",
   "execution_count": null,
   "metadata": {},
   "outputs": [],
   "source": [
    "fou.shape"
   ]
  },
  {
   "cell_type": "code",
   "execution_count": null,
   "metadata": {},
   "outputs": [],
   "source": [
    "plt.imshow(sess.run(ft, feed_dict={data:fou})[...,20])"
   ]
  },
  {
   "cell_type": "code",
   "execution_count": null,
   "metadata": {},
   "outputs": [],
   "source": [
    "plt.imshow(np.real(np.fft.rfftn(molecule)[...,20]))"
   ]
  },
  {
   "cell_type": "code",
   "execution_count": null,
   "metadata": {},
   "outputs": [],
   "source": [
    "plt.imshow(np.fft.fftshift(image)[...,50], clim=(0,600))"
   ]
  },
  {
   "cell_type": "code",
   "execution_count": null,
   "metadata": {},
   "outputs": [],
   "source": [
    "plt.imshow(molecule[...,50], clim=(0,12))"
   ]
  },
  {
   "cell_type": "code",
   "execution_count": null,
   "metadata": {},
   "outputs": [],
   "source": [
    "molecule.max()"
   ]
  },
  {
   "cell_type": "code",
   "execution_count": null,
   "metadata": {},
   "outputs": [],
   "source": [
    "molecule.min()"
   ]
  },
  {
   "cell_type": "code",
   "execution_count": null,
   "metadata": {},
   "outputs": [],
   "source": [
    "np.fft.fftshift(image).max()"
   ]
  },
  {
   "cell_type": "code",
   "execution_count": null,
   "metadata": {},
   "outputs": [],
   "source": [
    "np.fft.fftshift(image).min()"
   ]
  },
  {
   "cell_type": "code",
   "execution_count": null,
   "metadata": {},
   "outputs": [],
   "source": [
    "import odl\n",
    "from odl.contrib import tensorflow\n",
    "import numpy as np\n",
    "import tensorflow as tf"
   ]
  },
  {
   "cell_type": "code",
   "execution_count": null,
   "metadata": {},
   "outputs": [],
   "source": [
    "space = odl.uniform_discr([0, 0, 0], [96, 96 ,96], [96, 96, 96],\n",
    "                                             dtype='float32')"
   ]
  },
  {
   "cell_type": "code",
   "execution_count": null,
   "metadata": {},
   "outputs": [],
   "source": [
    "class ifftshift_odl(odl.Operator):\n",
    "    def _call(self, x):\n",
    "        return space.element(np.fft.ifftshift(x))\n",
    "    \n",
    "    def __init__(self):\n",
    "        super(ifftshift_odl, self).__init__(space, space, linear=True)\n",
    "\n",
    "class fftshift_odl(odl.Operator):\n",
    "    def _call(self, x):\n",
    "        return space.element(np.fft.fftshift(x))\n",
    "    \n",
    "    def __init__(self):\n",
    "        super(fftshift_odl, self).__init__(space, space, linear=True)\n",
    "        \n",
    "    @property\n",
    "    def adjoint(self):\n",
    "        return ifftshift_odl()\n",
    "fftshift_tf = odl.contrib.tensorflow.as_tensorflow_layer(fftshift_odl())"
   ]
  },
  {
   "cell_type": "code",
   "execution_count": null,
   "metadata": {},
   "outputs": [],
   "source": [
    "x = np.ones(shape=(96,96,96))\n",
    "y = fftshift_odl().adjoint(x)"
   ]
  },
  {
   "cell_type": "code",
   "execution_count": null,
   "metadata": {},
   "outputs": [],
   "source": [
    "(ifftshift_odl()(fftshift_odl()(molecule))-molecule).__array__().max()"
   ]
  },
  {
   "cell_type": "code",
   "execution_count": null,
   "metadata": {},
   "outputs": [],
   "source": [
    "fft_tf = odl.contrib.tensorflow.as_tensorflow_layer(fftshift_odl())"
   ]
  },
  {
   "cell_type": "code",
   "execution_count": null,
   "metadata": {},
   "outputs": [],
   "source": [
    "FOURIER_SIZE = (None, 96, 96, 49,1)\n",
    "t = tf.placeholder(shape=FOURIER_SIZE, dtype=tf.complex64)\n",
    "y = tf.expand_dims(tf.spectral.irfft3d(t[...,0]), axis=-1)"
   ]
  },
  {
   "cell_type": "code",
   "execution_count": null,
   "metadata": {},
   "outputs": [],
   "source": [
    "sess = tf.InteractiveSession()"
   ]
  },
  {
   "cell_type": "code",
   "execution_count": null,
   "metadata": {},
   "outputs": [],
   "source": [
    "res = sess.run(y, feed_dict={t:np.ones(shape=(5,96,96,96,1))})"
   ]
  },
  {
   "cell_type": "code",
   "execution_count": null,
   "metadata": {},
   "outputs": [],
   "source": [
    "y.shape"
   ]
  },
  {
   "cell_type": "code",
   "execution_count": null,
   "metadata": {},
   "outputs": [],
   "source": [
    "y_sh = fftshift_tf(y)"
   ]
  },
  {
   "cell_type": "code",
   "execution_count": null,
   "metadata": {},
   "outputs": [],
   "source": [
    "y_sh.shape"
   ]
  },
  {
   "cell_type": "code",
   "execution_count": null,
   "metadata": {},
   "outputs": [],
   "source": [
    "conv1 = tf.layers.conv3d(inputs=y, filters=16, kernel_size=[3, 3, 3], padding=\"same\",\n",
    "                                 activation=tf.nn.relu, reuse=tf.AUTO_REUSE, name='conv1')"
   ]
  },
  {
   "cell_type": "code",
   "execution_count": null,
   "metadata": {},
   "outputs": [],
   "source": [
    "tf.get_collection(tf.GraphKeys.GLOBAL_VARIABLES)"
   ]
  },
  {
   "cell_type": "code",
   "execution_count": null,
   "metadata": {},
   "outputs": [],
   "source": [
    "import numpy as np\n",
    "import mrcfile \n",
    "with mrcfile.open('/local/scratch/public/sl767/SPA/playing2/1Q9J.mrc') as mrc:\n",
    "    molecule = mrc.data"
   ]
  },
  {
   "cell_type": "code",
   "execution_count": null,
   "metadata": {},
   "outputs": [],
   "source": [
    "x = np.random.uniform(0,1,(96,96,96))\n",
    "y = np.fft.rfftn(x)"
   ]
  },
  {
   "cell_type": "code",
   "execution_count": null,
   "metadata": {},
   "outputs": [],
   "source": [
    "ft.shape"
   ]
  },
  {
   "cell_type": "code",
   "execution_count": null,
   "metadata": {},
   "outputs": [],
   "source": [
    "mask = np.concatenate((np.ones(shape=(96,96,1)), 2*np.ones(shape=(96,96,47)),np.ones(shape=(96,96,1))), axis=-1)\n",
    "mask2 = np.concatenate((np.ones(shape=(96,96,1)), 2*np.ones(shape=(96,96,94)),np.ones(shape=(96,96,1))), axis=-1)"
   ]
  },
  {
   "cell_type": "code",
   "execution_count": null,
   "metadata": {},
   "outputs": [],
   "source": [
    "def scal(a,b):\n",
    "    return np.dot(np.reshape(a, -1), np.conj(np.reshape(b, -1)))"
   ]
  },
  {
   "cell_type": "code",
   "execution_count": null,
   "metadata": {},
   "outputs": [],
   "source": [
    "scal(y,np.multiply(y, mask))/(96*96*96)"
   ]
  },
  {
   "cell_type": "code",
   "execution_count": null,
   "metadata": {},
   "outputs": [],
   "source": [
    "scal(x,x)"
   ]
  },
  {
   "cell_type": "code",
   "execution_count": null,
   "metadata": {},
   "outputs": [],
   "source": [
    "scal(y,np.fft.rfftn(np.multiply(x, mask2)))/(96*96*96)"
   ]
  },
  {
   "cell_type": "code",
   "execution_count": null,
   "metadata": {},
   "outputs": [],
   "source": [
    "import numpy as np\n",
    "import mrcfile \n",
    "with mrcfile.open('/local/scratch/public/sl767/SPA/playing2/1Q9J.mrc') as mrc:\n",
    "    molecule = mrc.data\n",
    "molecules = np.ones(shape=(2,96,96,96,1))\n",
    "molecules[0,...,0]=molecule\n",
    "from ClassFiles.ut import normalize\n",
    "from ClassFiles.ut import l2"
   ]
  },
  {
   "cell_type": "code",
   "execution_count": null,
   "metadata": {},
   "outputs": [],
   "source": [
    "import tensorflow as tf\n",
    "sess = tf.InteractiveSession()"
   ]
  },
  {
   "cell_type": "code",
   "execution_count": null,
   "metadata": {},
   "outputs": [],
   "source": [
    "REAL_SIZE = (None, 96, 96, 96,1)\n",
    "t = tf.placeholder(shape=REAL_SIZE, dtype=tf.float32)"
   ]
  },
  {
   "cell_type": "code",
   "execution_count": null,
   "metadata": {},
   "outputs": [],
   "source": [
    "norms = tf.sqrt(tf.reduce_sum(tf.square(t), axis=(1,2,3)))\n",
    "norms_exp = tf.expand_dims(tf.expand_dims(tf.expand_dims(norms, axis=1), axis=1), axis=1)"
   ]
  },
  {
   "cell_type": "code",
   "execution_count": null,
   "metadata": {},
   "outputs": [],
   "source": [
    "norms.shape"
   ]
  },
  {
   "cell_type": "code",
   "execution_count": null,
   "metadata": {},
   "outputs": [],
   "source": [
    "norms_exp.shape"
   ]
  },
  {
   "cell_type": "code",
   "execution_count": null,
   "metadata": {},
   "outputs": [],
   "source": [
    "result = tf.div(t, norms_exp)"
   ]
  },
  {
   "cell_type": "code",
   "execution_count": null,
   "metadata": {},
   "outputs": [],
   "source": [
    "normed = sess.run(result, feed_dict={t: molecules})"
   ]
  },
  {
   "cell_type": "code",
   "execution_count": null,
   "metadata": {},
   "outputs": [],
   "source": [
    "comp = normalize(molecules)"
   ]
  },
  {
   "cell_type": "code",
   "execution_count": null,
   "metadata": {},
   "outputs": [],
   "source": [
    "l2(normed-comp)/l2(comp)"
   ]
  },
  {
   "cell_type": "code",
   "execution_count": null,
   "metadata": {},
   "outputs": [],
   "source": [
    "import tensorflow as tf\n",
    "import numpy as np"
   ]
  },
  {
   "cell_type": "code",
   "execution_count": null,
   "metadata": {},
   "outputs": [],
   "source": [
    "REAL_SIZE = (None, 96, 96, 96,1)\n",
    "t = tf.placeholder(shape=REAL_SIZE, dtype=tf.float32)"
   ]
  },
  {
   "cell_type": "code",
   "execution_count": null,
   "metadata": {},
   "outputs": [],
   "source": [
    "y = tf.spectral.rfft3d(t)\n",
    "phase = 2*np.pi*tf.random_uniform(shape=tf.shape(y), minval= 0, maxval=1)\n",
    "com_phase = tf.exp(1j*tf.cast(phase, tf.complex64))\n",
    "y = tf.multiply(com_phase, y)"
   ]
  },
  {
   "cell_type": "code",
   "execution_count": 8,
   "metadata": {},
   "outputs": [],
   "source": [
    "from ClassFiles import tensorflow_rotations\n",
    "import tensorflow as tf\n",
    "from matplotlib import pyplot as plt\n",
    "%matplotlib inline\n",
    "from ClassFiles.ut import find\n",
    "import random"
   ]
  },
  {
   "cell_type": "code",
   "execution_count": 9,
   "metadata": {},
   "outputs": [],
   "source": [
    "import numpy as np\n",
    "import scipy.linalg\n",
    "import mrcfile \n",
    "with mrcfile.open('/local/scratch/public/sl767/SPA/playing2/1Q9J.mrc') as mrc:\n",
    "    molecule = mrc.data\n",
    "molecules = np.ones(shape=(1,96,96,96,1))\n",
    "molecules[0,...,0]=molecule\n",
    "from ClassFiles.ut import l2\n",
    "# sess = tf.InteractiveSession()"
   ]
  },
  {
   "cell_type": "code",
   "execution_count": 5,
   "metadata": {},
   "outputs": [
    {
     "data": {
      "text/plain": [
       "336.56775"
      ]
     },
     "execution_count": 5,
     "metadata": {},
     "output_type": "execute_result"
    }
   ],
   "source": [
    "l2(molecule)"
   ]
  },
  {
   "cell_type": "code",
   "execution_count": 6,
   "metadata": {},
   "outputs": [
    {
     "name": "stdout",
     "output_type": "stream",
     "text": [
      "Training Pictures found: 47\n",
      "Evaluation Pictures found: 0\n"
     ]
    }
   ],
   "source": [
    "PATH = '/local/scratch/public/sl767/MRC_Data/org/'\n",
    "PATH_ADV = '/local/scratch/public/sl767/MRC_Data/Data_002_10k/EM/'\n",
    "\n",
    "train_list = find('*it013_half2_class001_external_reconstruct.mrc', PATH_ADV)\n",
    "train_amount = len(train_list)\n",
    "print('Training Pictures found: ' + str(train_amount))\n",
    "eval_list = ''\n",
    "eval_amount = len(eval_list)\n",
    "print('Evaluation Pictures found: ' + str(eval_amount))\n",
    "\n",
    "\n",
    "def locate_gt(adversarial_path):\n",
    "    pdb_id = adversarial_path[-63:-59]\n",
    "    l = find('*'+pdb_id+'.mrc', PATH)\n",
    "    if not len(l)==1:\n",
    "        raise ValueError('non-unique pdb id: '+l)\n",
    "    else:\n",
    "        return l[0]\n",
    "\n",
    "\n",
    "def get_image(number, training):\n",
    "    if training:\n",
    "        L = train_list\n",
    "    else:\n",
    "        L = eval_list\n",
    "    adv_path=L[number]\n",
    "    print(adv_path)\n",
    "    with mrcfile.open(adv_path) as mrc:\n",
    "        adv = mrc.data\n",
    "    with mrcfile.open(locate_gt(adv_path)) as mrc:\n",
    "        gt = mrc.data\n",
    "    return gt, adv\n",
    "\n",
    "\n",
    "def load_data(training_data=True):\n",
    "    if training_data:\n",
    "        n = train_amount\n",
    "    else:\n",
    "        n = eval_amount\n",
    "    return get_image(random.randint(0, n-1), training=training_data)"
   ]
  },
  {
   "cell_type": "code",
   "execution_count": 7,
   "metadata": {},
   "outputs": [
    {
     "name": "stdout",
     "output_type": "stream",
     "text": [
      "/local/scratch/public/sl767/MRC_Data/Data_002_10k/EM/3Q0R/3Q0R_mult002_it013_half2_class001_external_reconstruct.mrc\n"
     ]
    }
   ],
   "source": [
    "gt, sgd = load_data()\n",
    "gt = np.expand_dims(np.expand_dims(gt, 0), -1)/l2(gt)\n",
    "sgd = np.expand_dims(np.expand_dims(sgd, 0), -1)/l2(sgd)"
   ]
  },
  {
   "cell_type": "code",
   "execution_count": null,
   "metadata": {},
   "outputs": [],
   "source": [
    "train_list[0][-63:-59]"
   ]
  },
  {
   "cell_type": "code",
   "execution_count": null,
   "metadata": {},
   "outputs": [],
   "source": [
    "l2(gt)"
   ]
  },
  {
   "cell_type": "code",
   "execution_count": null,
   "metadata": {},
   "outputs": [],
   "source": [
    "rotation_matrix = np.zeros(shape=(3,3))\n",
    "rotation_matrix[0,0] = 1\n",
    "rotation_matrix[1,2] = -1\n",
    "rotation_matrix[2,1] = 1\n",
    "\n",
    "rotation_matrix = np.eye(3, 3)\n",
    "rotation_matrix[0,0] = -1\n",
    "rotation_matrix[1,1] = -1"
   ]
  },
  {
   "cell_type": "code",
   "execution_count": null,
   "metadata": {},
   "outputs": [],
   "source": []
  },
  {
   "cell_type": "code",
   "execution_count": null,
   "metadata": {},
   "outputs": [],
   "source": [
    "exponent = 0.2 * np.random.randn(3, 3)\n",
    "rotation_matrix = scipy.linalg.expm((exponent - exponent.T) / 2)"
   ]
  },
  {
   "cell_type": "code",
   "execution_count": null,
   "metadata": {},
   "outputs": [],
   "source": [
    "rotation_matrix"
   ]
  },
  {
   "cell_type": "code",
   "execution_count": null,
   "metadata": {},
   "outputs": [],
   "source": [
    "translation=0.05*np.random.randn(3,1)\n",
    "translation"
   ]
  },
  {
   "cell_type": "code",
   "execution_count": null,
   "metadata": {},
   "outputs": [],
   "source": [
    "theta = np.concatenate((rotation_matrix, translation), axis=1)"
   ]
  },
  {
   "cell_type": "code",
   "execution_count": null,
   "metadata": {},
   "outputs": [],
   "source": [
    "theta = np.expand_dims(theta, 0)"
   ]
  },
  {
   "cell_type": "code",
   "execution_count": null,
   "metadata": {},
   "outputs": [],
   "source": [
    "inp = tf.placeholder(shape=(None, 96,96,96,1), dtype=tf.float32)\n",
    "rotated = tensorflow_rotations.rot3d(inp, theta.astype('float32'))"
   ]
  },
  {
   "cell_type": "code",
   "execution_count": null,
   "metadata": {},
   "outputs": [],
   "source": [
    "rot_im = sess.run(rotated, feed_dict={inp: molecules})"
   ]
  },
  {
   "cell_type": "code",
   "execution_count": null,
   "metadata": {},
   "outputs": [],
   "source": [
    "rot_im.shape"
   ]
  },
  {
   "cell_type": "code",
   "execution_count": null,
   "metadata": {},
   "outputs": [],
   "source": [
    "molecules.shape"
   ]
  },
  {
   "cell_type": "code",
   "execution_count": 8,
   "metadata": {},
   "outputs": [
    {
     "name": "stdout",
     "output_type": "stream",
     "text": [
      "0.859401\n"
     ]
    },
    {
     "data": {
      "image/png": "[encoded data removed]",
      "text/plain": [
       "<Figure size 432x288 with 2 Axes>"
      ]
     },
     "metadata": {
      "needs_background": "light"
     },
     "output_type": "display_data"
    }
   ],
   "source": [
    "plt.figure()\n",
    "plt.subplot(121)\n",
    "plt.imshow(gt[0,...,45,0])\n",
    "plt.subplot(122)\n",
    "plt.imshow(sgd[0,...,45,0])\n",
    "print(l2(sgd-gt))"
   ]
  },
  {
   "cell_type": "code",
   "execution_count": null,
   "metadata": {},
   "outputs": [],
   "source": [
    "print(theta[0,...])"
   ]
  },
  {
   "cell_type": "code",
   "execution_count": null,
   "metadata": {},
   "outputs": [],
   "source": [
    "# The tensorflow rotation methods"
   ]
  },
  {
   "cell_type": "code",
   "execution_count": null,
   "metadata": {},
   "outputs": [],
   "source": [
    "image_feed = tf.placeholder(shape=(None, 96,96,96 ,1), dtype=tf.float32)\n",
    "reference_feed = tf.placeholder(shape=(None, 96,96,96 ,1), dtype=tf.float32)\n",
    "noise = tf.placeholder(shape=(), dtype=tf.float32)\n",
    "\n",
    "if 1:\n",
    "    k = 1\n",
    "    image = tf.layers.average_pooling3d(image_feed, k, k)\n",
    "    reference = tf.layers.average_pooling3d(reference_feed, k, k)"
   ]
  },
  {
   "cell_type": "code",
   "execution_count": null,
   "metadata": {},
   "outputs": [],
   "source": [
    "basis_exp = tf.Variable(tf.zeros(shape=(3,3)))\n",
    "skew_exp = basis_exp - tf.transpose(basis_exp)\n",
    "rotation = tf.linalg.expm(skew_exp)\n",
    "translation = tf.Variable(tf.zeros(shape=(3,1)))\n",
    "theta = tf.concat([rotation, translation], axis=-1)"
   ]
  },
  {
   "cell_type": "code",
   "execution_count": null,
   "metadata": {},
   "outputs": [],
   "source": [
    "rot_image = tensorflow_rotations.rot3d(image, theta)"
   ]
  },
  {
   "cell_type": "code",
   "execution_count": null,
   "metadata": {},
   "outputs": [],
   "source": [
    "diff = rot_image - reference\n",
    "\n",
    "data_fit = tf.reduce_sum(tf.square(diff))\n",
    "for i in range(1, 4):\n",
    "    data_fit += tf.reduce_sum(tf.square(tf.layers.average_pooling3d(diff, 2 ** i, 2 ** i)))\n",
    "\n",
    "# outside_reg = tf.reduce_mean(tf.square(reference)) - tf.reduce_mean(tf.square(rot_image))\n",
    "regularizer = 0.01 * tf.reduce_sum(tf.square(reference)) * tf.reduce_sum(tf.square(translation))\n",
    "\n",
    "loss = data_fit + regularizer"
   ]
  },
  {
   "cell_type": "code",
   "execution_count": null,
   "metadata": {},
   "outputs": [],
   "source": [
    "optimizer = tf.train.AdamOptimizer(learning_rate=1e-2).minimize(loss)\n",
    "\n",
    "with tf.control_dependencies([optimizer]):\n",
    "    assign = tf.group(tf.assign_add(basis_exp, np.pi * noise * tf.random_normal(shape=(3, 3))),\n",
    "                      tf.assign_add(translation, noise * tf.random_normal(shape=(3, 1))))"
   ]
  },
  {
   "cell_type": "code",
   "execution_count": null,
   "metadata": {},
   "outputs": [],
   "source": [
    "tf.global_variables_initializer().run()\n",
    "\n",
    "IMAX = 60\n",
    "for i in range(IMAX):\n",
    "    _, _, ld, lr, matrix, trans = sess.run([optimizer, assign, data_fit, regularizer, rotation, translation], \n",
    "                            feed_dict={image_feed: sgd, \n",
    "                                       reference_feed: gt,\n",
    "                                       noise: 0.001 * (i < IMAX // 2)})\n",
    "    if i%3==0:\n",
    "        print(ld, lr)\n",
    "        print(matrix)"
   ]
  },
  {
   "cell_type": "code",
   "execution_count": null,
   "metadata": {},
   "outputs": [],
   "source": [
    "im1, im2 = sess.run([reference,rot_image], feed_dict={image_feed:sgd, reference_feed: gt})"
   ]
  },
  {
   "cell_type": "code",
   "execution_count": null,
   "metadata": {},
   "outputs": [],
   "source": [
    "plt.figure(figsize=(15,3.5))\n",
    "plt.subplot(131)\n",
    "plt.imshow(gt.squeeze().mean(axis=1))\n",
    "plt.colorbar()\n",
    "plt.subplot(132)\n",
    "plt.imshow(sgd.squeeze().mean(axis=1))\n",
    "plt.colorbar()\n",
    "plt.subplot(133)\n",
    "plt.imshow(reg_im.squeeze().mean(axis=1))\n",
    "plt.colorbar()"
   ]
  },
  {
   "cell_type": "code",
   "execution_count": null,
   "metadata": {},
   "outputs": [],
   "source": []
  },
  {
   "cell_type": "code",
   "execution_count": 1,
   "metadata": {},
   "outputs": [],
   "source": [
    "from ClassFiles.registration import LocalRegistrator"
   ]
  },
  {
   "cell_type": "code",
   "execution_count": 2,
   "metadata": {},
   "outputs": [],
   "source": [
    "reg = LocalRegistrator()"
   ]
  },
  {
   "cell_type": "code",
   "execution_count": 9,
   "metadata": {},
   "outputs": [
    {
     "name": "stdout",
     "output_type": "stream",
     "text": [
      "0.777433\n",
      "0.684317\n",
      "0.515994\n",
      "0.465079\n",
      "0.453072\n",
      "Final Registration Loss: 0.442759\n",
      "Rotation: \n",
      "[[  9.99972880e-01  -7.29993870e-03   1.00849557e-03]\n",
      " [  7.30384141e-03   9.99965608e-01  -3.92225152e-03]\n",
      " [ -9.79828881e-04   3.92951071e-03   9.99991715e-01]]\n",
      "Translation: \n",
      "[[-0.00777616]\n",
      " [-0.00854683]\n",
      " [-0.00723018]]\n"
     ]
    }
   ],
   "source": [
    "reg_im=reg.register(gt, sgd)"
   ]
  },
  {
   "cell_type": "code",
   "execution_count": 10,
   "metadata": {},
   "outputs": [
    {
     "data": {
      "text/plain": [
       "<matplotlib.colorbar.Colorbar at 0x7fdf680241d0>"
      ]
     },
     "execution_count": 10,
     "metadata": {},
     "output_type": "execute_result"
    },
    {
     "data": {
      "image/png": "[encoded data removed]",
      "text/plain": [
       "<Figure size 1080x252 with 6 Axes>"
      ]
     },
     "metadata": {
      "needs_background": "light"
     },
     "output_type": "display_data"
    }
   ],
   "source": [
    "plt.figure(figsize=(15,3.5))\n",
    "plt.subplot(131)\n",
    "plt.imshow(gt.squeeze().mean(axis=1))\n",
    "plt.colorbar()\n",
    "plt.subplot(132)\n",
    "plt.imshow(sgd.squeeze().mean(axis=1))\n",
    "plt.colorbar()\n",
    "plt.subplot(133)\n",
    "plt.imshow(reg_im.squeeze().mean(axis=1))\n",
    "plt.colorbar()"
   ]
  },
  {
   "cell_type": "code",
   "execution_count": 12,
   "metadata": {},
   "outputs": [
    {
     "name": "stdout",
     "output_type": "stream",
     "text": [
      "0.777436\n",
      "0.719502\n",
      "0.709269\n",
      "0.70649\n",
      "0.701319\n",
      "Final Registration Loss: 0.701748\n",
      "Rotation: \n",
      "[[ 0.9992769   0.03616333 -0.01174391]\n",
      " [-0.03605265  0.9993047   0.00950415]\n",
      " [ 0.01207944 -0.00907388  0.99988586]]\n",
      "Translation: \n",
      "[[-0.00029438]\n",
      " [-0.00020427]\n",
      " [ 0.0001248 ]]\n"
     ]
    }
   ],
   "source": [
    "reg_im=reg.register(image=sgd, reference=gt)"
   ]
  },
  {
   "cell_type": "code",
   "execution_count": 13,
   "metadata": {},
   "outputs": [
    {
     "data": {
      "text/plain": [
       "<matplotlib.colorbar.Colorbar at 0x7fdf636ac780>"
      ]
     },
     "execution_count": 13,
     "metadata": {},
     "output_type": "execute_result"
    },
    {
     "data": {
      "image/png": "[encoded data removed]",
      "text/plain": [
       "<Figure size 1080x252 with 6 Axes>"
      ]
     },
     "metadata": {
      "needs_background": "light"
     },
     "output_type": "display_data"
    }
   ],
   "source": [
    "plt.figure(figsize=(15,3.5))\n",
    "plt.subplot(131)\n",
    "plt.imshow(gt.squeeze().mean(axis=1))\n",
    "plt.colorbar()\n",
    "plt.subplot(132)\n",
    "plt.imshow(sgd.squeeze().mean(axis=1))\n",
    "plt.colorbar()\n",
    "plt.subplot(133)\n",
    "plt.imshow(reg_im.squeeze().mean(axis=1))\n",
    "plt.colorbar()"
   ]
  },
  {
   "cell_type": "code",
   "execution_count": null,
   "metadata": {},
   "outputs": [],
   "source": []
  },
  {
   "cell_type": "code",
   "execution_count": 21,
   "metadata": {},
   "outputs": [],
   "source": [
    "st = '/local/scratch/public/sl767/MRC_Data/Data_002_10k/TestAR/9ICA/9ICA_mult002_it011_half2_model.star'"
   ]
  },
  {
   "cell_type": "code",
   "execution_count": 22,
   "metadata": {},
   "outputs": [
    {
     "name": "stdout",
     "output_type": "stream",
     "text": [
      "11\n"
     ]
    }
   ],
   "source": [
    "l = st.split('_')\n",
    "for det in l:\n",
    "    if det[0:2]=='it':\n",
    "        it = det[2:5]\n",
    "print(int(it))"
   ]
  },
  {
   "cell_type": "code",
   "execution_count": 10,
   "metadata": {},
   "outputs": [],
   "source": [
    "with mrcfile.open('/local/scratch/public/sl767/MRC_Data/Data_002_10k/ValidateExternal/Iteration_7.mrc') as mrc:\n",
    "    comp = mrc.data"
   ]
  },
  {
   "cell_type": "code",
   "execution_count": 13,
   "metadata": {},
   "outputs": [
    {
     "data": {
      "text/plain": [
       "<matplotlib.image.AxesImage at 0x7fa8ca5b2fd0>"
      ]
     },
     "execution_count": 13,
     "metadata": {},
     "output_type": "execute_result"
    },
    {
     "data": {
      "image/png": "[encoded data removed]",
      "text/plain": [
       "<Figure size 432x288 with 1 Axes>"
      ]
     },
     "metadata": {
      "needs_background": "light"
     },
     "output_type": "display_data"
    }
   ],
   "source": [
    "plt.imshow(comp.mean(axis=-1))"
   ]
  },
  {
   "cell_type": "code",
   "execution_count": 5,
   "metadata": {},
   "outputs": [],
   "source": [
    "import numpy as np\n",
    "import mrcfile\n",
    "from matplotlib import pyplot as plt\n",
    "%matplotlib inline\n",
    "import collections\n",
    "import tensorflow as tf\n",
    "from tensorflow import spectral\n",
    "from ClassFiles.ut import l2\n",
    "from ClassFiles.ut import get_coordinate_change"
   ]
  },
  {
   "cell_type": "code",
   "execution_count": 3,
   "metadata": {},
   "outputs": [],
   "source": [
    "rnd = np.random.normal(size=(96,96,96))\n",
    "ft = np.fft.fftn(rnd)"
   ]
  },
  {
   "cell_type": "code",
   "execution_count": 6,
   "metadata": {},
   "outputs": [
    {
     "data": {
      "text/plain": [
       "940.28095094484183"
      ]
     },
     "execution_count": 6,
     "metadata": {},
     "output_type": "execute_result"
    }
   ],
   "source": [
    "l2(rnd)"
   ]
  },
  {
   "cell_type": "code",
   "execution_count": 8,
   "metadata": {},
   "outputs": [
    {
     "data": {
      "text/plain": [
       "940.28095094484183"
      ]
     },
     "execution_count": 8,
     "metadata": {},
     "output_type": "execute_result"
    }
   ],
   "source": [
    "l2(ft)/(96**(3/2))"
   ]
  },
  {
   "cell_type": "code",
   "execution_count": 58,
   "metadata": {},
   "outputs": [],
   "source": [
    "def sobolev_mask(power=1.0, cutoff=100.0):    \n",
    "    print(cutoff)\n",
    "    print(power)\n",
    "    X, Y, Z = np.meshgrid(np.linspace(-1, 1, 96),\n",
    "                          np.linspace(-1, 1, 96),\n",
    "                          np.linspace(-1, 1, 96))\n",
    "\n",
    "    R = np.sqrt(X ** 2 + Y ** 2 + Z ** 2)\n",
    "    R = np.fft.fftshift(R)\n",
    "\n",
    "    R = R ** power\n",
    "    R = np.maximum(R, np.max(R)/cutoff)\n",
    "    R = R / np.min(R)\n",
    "    return R"
   ]
  },
  {
   "cell_type": "code",
   "execution_count": 59,
   "metadata": {},
   "outputs": [
    {
     "name": "stdout",
     "output_type": "stream",
     "text": [
      "100.0\n",
      "1.0\n",
      "100.0\n",
      "-1.0\n"
     ]
    }
   ],
   "source": [
    "mask = sobolev_mask()\n",
    "mask_i = sobolev_mask(power = -1.0)"
   ]
  },
  {
   "cell_type": "code",
   "execution_count": 62,
   "metadata": {},
   "outputs": [
    {
     "data": {
      "text/plain": [
       "<matplotlib.colorbar.Colorbar at 0x7f8ef7d7ffd0>"
      ]
     },
     "execution_count": 62,
     "metadata": {},
     "output_type": "execute_result"
    },
    {
     "data": {
      "image/png": "[encoded data removed]",
      "text/plain": [
       "<Figure size 432x288 with 2 Axes>"
      ]
     },
     "metadata": {
      "needs_background": "light"
     },
     "output_type": "display_data"
    }
   ],
   "source": [
    "plt.imshow(np.log10((mask)[...,0]))\n",
    "plt.colorbar()"
   ]
  },
  {
   "cell_type": "code",
   "execution_count": 101,
   "metadata": {},
   "outputs": [],
   "source": [
    "tensor = tf.placeholder(shape=(None, 96,96,96,1), dtype=tf.float32)\n",
    "\n",
    "def sobolev_norm(tensor, s=1.0):\n",
    "    mask = tf.constant(sobolev_mask(), dtype=tf.complex64)\n",
    "    s = tf.shape(tensor)\n",
    "    scaling = tf.sqrt(tf.cast(s[1]*s[2]*s[3], dtype=tf.complex64))\n",
    "\n",
    "    # move channels in as fourier transform is taken over the three innermost dimensions\n",
    "    tensor = tf.transpose(tensor, [0, 4, 1, 2 ,3])\n",
    "    fourier= tf.spectral.fft3d(tf.cast(tensor, dtype=tf.complex64))/scaling\n",
    "\n",
    "    masked = tf.multiply(fourier, mask)\n",
    "    return l2_tf(masked)"
   ]
  },
  {
   "cell_type": "code",
   "execution_count": 102,
   "metadata": {},
   "outputs": [
    {
     "name": "stdout",
     "output_type": "stream",
     "text": [
      "100.0\n",
      "1.0\n"
     ]
    }
   ],
   "source": [
    "error = sobolev_norm(tensor)"
   ]
  },
  {
   "cell_type": "code",
   "execution_count": 100,
   "metadata": {},
   "outputs": [],
   "source": [
    "def l2_tf(tensor):\n",
    "    return tf.sqrt(tf.reduce_sum(tf.square(tf.abs(tensor)), axis = (1,2,3,4)))"
   ]
  },
  {
   "cell_type": "code",
   "execution_count": 103,
   "metadata": {},
   "outputs": [
    {
     "data": {
      "text/plain": [
       "<tf.Tensor 'Sqrt_15:0' shape=(?,) dtype=float32>"
      ]
     },
     "execution_count": 103,
     "metadata": {},
     "output_type": "execute_result"
    }
   ],
   "source": [
    "error"
   ]
  },
  {
   "cell_type": "code",
   "execution_count": null,
   "metadata": {},
   "outputs": [],
   "source": []
  }
 ],
 "metadata": {
  "kernelspec": {
   "display_name": "Python 3",
   "language": "python",
   "name": "python3"
  },
  "language_info": {
   "codemirror_mode": {
    "name": "ipython",
    "version": 3
   },
   "file_extension": ".py",
   "mimetype": "text/x-python",
   "name": "python",
   "nbconvert_exporter": "python",
   "pygments_lexer": "ipython3",
   "version": "3.6.7"
  }
 },
 "nbformat": 4,
 "nbformat_minor": 2
}
