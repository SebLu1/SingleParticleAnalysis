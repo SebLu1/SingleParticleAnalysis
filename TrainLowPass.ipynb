{
 "cells": [
  {
   "cell_type": "code",
   "execution_count": 1,
   "metadata": {},
   "outputs": [],
   "source": [
    "import mrcfile\n",
    "import numpy as np\n",
    "from subprocess import call\n",
    "import matplotlib\n",
    "%matplotlib inline\n",
    "from matplotlib import pyplot as plt\n",
    "import os\n",
    "import fnmatch\n",
    "from ClassFiles.ut import create_single_folder\n",
    "from ClassFiles.Framework import AdversarialRegulariser "
   ]
  },
  {
   "cell_type": "code",
   "execution_count": 2,
   "metadata": {},
   "outputs": [],
   "source": [
    "def find(pattern, path):\n",
    "    result = []\n",
    "    for root, dirs, files in os.walk(path):\n",
    "        for name in files:\n",
    "            if fnmatch.fnmatch(name, pattern):\n",
    "                result.append(os.path.join(root, name).replace(\"\\\\\", \"/\"))\n",
    "    return result"
   ]
  },
  {
   "cell_type": "code",
   "execution_count": 50,
   "metadata": {},
   "outputs": [],
   "source": [
    "path = '/local/scratch/public/sl767/MRC_Data/org/'\n",
    "tmp_path = '/local/scratch/public/sl767/MRC_Data/tmp/low_pass_filter/'\n",
    "create_single_folder(tmp_path)\n",
    "training_path = path+'training/'\n",
    "eval_path = path+'eval/'"
   ]
  },
  {
   "cell_type": "code",
   "execution_count": 52,
   "metadata": {},
   "outputs": [
    {
     "name": "stdout",
     "output_type": "stream",
     "text": [
      "Training Pictures found: 2991\n",
      "Evaluation Pictures found: 25\n"
     ]
    }
   ],
   "source": [
    "train_list = find('*.mrc', training_path)\n",
    "train_amount = len(train_list)\n",
    "print('Training Pictures found: ' + str(train_amount))\n",
    "eval_list = find('*.mrc', eval_path)\n",
    "eval_amount = len(eval_list)\n",
    "print('Evaluation Pictures found: ' + str(eval_amount))"
   ]
  },
  {
   "cell_type": "code",
   "execution_count": 26,
   "metadata": {},
   "outputs": [],
   "source": [
    "def get_pdb_id(path):\n",
    "    return path[-8:len(path)]\n",
    "def get_tmp_path(path):\n",
    "    return tmp_path+get_pdb_id(path)"
   ]
  },
  {
   "cell_type": "code",
   "execution_count": 31,
   "metadata": {},
   "outputs": [],
   "source": [
    "def low_pass_filter(i,o):\n",
    "    call('relion_image_handler --i {} --o {} --lowpass 30 --angpix 3'.format(i, o), shell=True)"
   ]
  },
  {
   "cell_type": "code",
   "execution_count": 30,
   "metadata": {},
   "outputs": [],
   "source": [
    "def adversarial(molecule_path):\n",
    "    out = get_tmp_path(molecule_path)\n",
    "    if os.path.isfile(out):\n",
    "        return out\n",
    "    else:\n",
    "        low_pass_filter(molecule_path,out)\n",
    "        return out"
   ]
  },
  {
   "cell_type": "code",
   "execution_count": 32,
   "metadata": {},
   "outputs": [],
   "source": [
    "def get_image(number, training):\n",
    "    if training:\n",
    "        L = train_list\n",
    "    else:\n",
    "        L = eval_list\n",
    "    molecule_path=L[number]\n",
    "    with mrcfile.open(molecule_path) as mrc:\n",
    "        gt = mrc.data\n",
    "    with mrcfile.open(adversarial(molecule_path)) as mrc:\n",
    "        adv = mrc.data\n",
    "    return gt, adv\n",
    "\n",
    "def load_data(training_data=True):\n",
    "    if training_data:\n",
    "        n = train_amount\n",
    "    else:\n",
    "        n = eval_amount\n",
    "    return get_image(random.randint(0, n-1), training=training_data)"
   ]
  },
  {
   "cell_type": "code",
   "execution_count": 33,
   "metadata": {},
   "outputs": [],
   "source": [
    "BATCH_SIZE=2\n",
    "def get_batch(training_data=True):\n",
    "    true = np.zeros(shape=(BATCH_SIZE, 96,96,96))\n",
    "    adv = np.zeros(shape=(BATCH_SIZE, 96,96,96))\n",
    "    for k in range(BATCH_SIZE):\n",
    "        gt, adver = load_data(training_data=training_data)\n",
    "        true[k,...]=gt\n",
    "        adv[k,...]=adver\n",
    "    return gt,adv"
   ]
  },
  {
   "cell_type": "code",
   "execution_count": 36,
   "metadata": {},
   "outputs": [
    {
     "name": "stdout",
     "output_type": "stream",
     "text": [
      "No save found\n"
     ]
    }
   ],
   "source": [
    "saves_path = '/local/scratch/public/sl767/SPA/Saves/Adversarial_Regulariser/LowPassFiltering'\n",
    "regularizer = AdversarialRegulariser(saves_path)"
   ]
  },
  {
   "cell_type": "code",
   "execution_count": 38,
   "metadata": {},
   "outputs": [],
   "source": [
    "def evaluate():\n",
    "    gt, adv = get_batch(training_data=False)\n",
    "    regularizer.test(groundTruth=gt, adversarial=adv, fourier_data =False)\n",
    "\n",
    "LEARNING_RATE=0.001\n",
    "def train(steps):\n",
    "    for k in range(steps):\n",
    "        gt, adv = get_batch()\n",
    "        regularizer.train(groundTruth=gt, adversarial=adv, learning_rate=LEARNING_RATE, fourier_data =False)\n",
    "        if k%100==0:\n",
    "            evaluate()\n",
    "    regularizer.save()"
   ]
  },
  {
   "cell_type": "code",
   "execution_count": 39,
   "metadata": {},
   "outputs": [],
   "source": [
    "# for k in range(5):\n",
    "#     train(5000)"
   ]
  },
  {
   "cell_type": "code",
   "execution_count": 40,
   "metadata": {},
   "outputs": [],
   "source": [
    "# visual check for low pass filtering"
   ]
  },
  {
   "cell_type": "code",
   "execution_count": null,
   "metadata": {},
   "outputs": [],
   "source": []
  },
  {
   "cell_type": "code",
   "execution_count": null,
   "metadata": {},
   "outputs": [],
   "source": []
  },
  {
   "cell_type": "code",
   "execution_count": null,
   "metadata": {},
   "outputs": [],
   "source": []
  }
 ],
 "metadata": {
  "kernelspec": {
   "display_name": "Python 3",
   "language": "python",
   "name": "python3"
  },
  "language_info": {
   "codemirror_mode": {
    "name": "ipython",
    "version": 3
   },
   "file_extension": ".py",
   "mimetype": "text/x-python",
   "name": "python",
   "nbconvert_exporter": "python",
   "pygments_lexer": "ipython3",
   "version": "3.6.7"
  }
 },
 "nbformat": 4,
 "nbformat_minor": 2
}
