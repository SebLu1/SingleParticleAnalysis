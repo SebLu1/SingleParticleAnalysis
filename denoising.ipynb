{
 "cells": [
  {
   "cell_type": "code",
   "execution_count": 1,
   "metadata": {},
   "outputs": [],
   "source": [
    "import tensorflow as tf\n",
    "import numpy as np\n",
    "import matplotlib.pyplot as plt \n",
    "import odl\n",
    "import odl.contrib.tensorflow\n",
    "import matplotlib.pyplot as plt\n",
    "from IPython.display import display, clear_output\n",
    "#from util import evaluate, display_progress, visualize"
   ]
  },
  {
   "cell_type": "code",
   "execution_count": null,
   "metadata": {},
   "outputs": [],
   "source": [
    "BATCH_SIZE = 1\n",
    "train_list = None \n",
    "eval_list = None"
   ]
  },
  {
   "cell_type": "code",
   "execution_count": 5,
   "metadata": {},
   "outputs": [],
   "source": [
    "def evaluate():\n",
    "    pass\n",
    "\n",
    "def display_progress():\n",
    "    pass\n",
    "\n",
    "def visualize():\n",
    "    pass"
   ]
  },
  {
   "cell_type": "code",
   "execution_count": 2,
   "metadata": {},
   "outputs": [],
   "source": [
    "session = tf.InteractiveSession()"
   ]
  },
  {
   "cell_type": "code",
   "execution_count": 3,
   "metadata": {},
   "outputs": [],
   "source": [
    "class orbitLoss(odl.solvers.Functional):\n",
    "    def __init__(self, domain):\n",
    "        super(orbitLoss, self).__init__(domain) \n",
    "        \n",
    "    def localReg(self, prod_elem):\n",
    "        return theta, fun, reco_rotated \n",
    "\n",
    "\n",
    "    def _call(self, prod_elem):\n",
    "        return self.localReg(prod_elem)[1] #  optimal funtional value\n",
    "\n",
    "\n",
    "    # For performance OrbitLossGradientOperator should maybe defined outside of orbitLoss?\n",
    "    @property\n",
    "    def gradient(self):\n",
    "        class OrbitLossGradientOperator(odl.Operator):\n",
    "            def __init__(self, domain, outer_instance):\n",
    "                super(OrbitLossGradientOperator, self).__init__(domain=domain, range=domain)\n",
    "                self.outer_instance = outer_instance\n",
    "            def _call(self, prod_elem):\n",
    "                x = prod_elem[0] #  Ground truth\n",
    "                y = prod_elem[1] #  Reco\n",
    "                grad_x = np.zeros_like(x) #  Lets set the dervative wrt ground truth-part to zero. It will not propagate back to network params.\n",
    "                _, _, reco_rotated = self.outer_instance.localReg(prod_elem) #  \n",
    "                grad_y = reco_rotated - x\n",
    "                grad = self.domain.element([grad_x, grad_y])\n",
    "                return grad\n",
    "               \n",
    "        return OrbitLossGradientOperator(self.domain, self)\n"
   ]
  },
  {
   "cell_type": "code",
   "execution_count": 5,
   "metadata": {},
   "outputs": [],
   "source": [
    "def train_net(result_tensor):\n",
    "    max_iter = 100\n",
    "    for i in range(max_iter):\n",
    "        ground_truth, data = get_next_batch(BATCH_SIZE) \n",
    "\n",
    "        session.run(optimizer, feed_dict={x_true: ground_truth, y: data})\n",
    "\n",
    "        display_progress(i, max_iter, result_tensor, y, test_data, test_gt, every=20)"
   ]
  },
  {
   "cell_type": "code",
   "execution_count": 6,
   "metadata": {},
   "outputs": [],
   "source": [
    "with tf.name_scope('placeholders'):\n",
    "    x_true = tf.placeholder(tf.float64, shape=[None, 96, 96, 96, 1], name=\"x_true\")\n",
    "    y = tf.placeholder(tf.float64, shape=[None, 96, 96, 96, 1], name=\"y\")\n",
    "\n",
    "space = odl.ProductSpace(odl.uniform_discr(min_pt=[0]*3, max_pt=[1]*3, shape=[96]*3), 2)\n",
    "loss_op = orbitLoss(domain=space)\n",
    "tf_loss_op = odl.contrib.tensorflow.as_tensorflow_layer(loss_op, name='tf_loss_op')"
   ]
  },
  {
   "cell_type": "code",
   "execution_count": 7,
   "metadata": {},
   "outputs": [],
   "source": [
    "with tf.name_scope('orbit_loss'):\n",
    "    current = y\n",
    "\n",
    "    for i in range(2):\n",
    "        dx = tf.contrib.layers.conv3d(current, num_outputs=32, kernel_size=3)\n",
    "        dx = tf.contrib.layers.conv3d(dx, num_outputs=32, kernel_size=3)\n",
    "        dx = tf.contrib.layers.conv3d(dx, num_outputs=1, kernel_size=1,\n",
    "                                      activation_fn=None)\n",
    "\n",
    "        current = current + dx\n",
    "\n",
    "    denoised = current\n",
    "\n",
    "with tf.name_scope('optimizer_orbit_loss'):\n",
    "    stack = tf.stack([x_true[0, :, :, 0], denoised[0, :, :, 0]])[None,..., None]\n",
    "\n",
    "    loss = tf_loss_op(stack)\n",
    "    optimizer = tf.train.AdamOptimizer().minimize(loss)\n",
    "\n",
    "tf.global_variables_initializer().run()"
   ]
  },
  {
   "cell_type": "code",
   "execution_count": 8,
   "metadata": {},
   "outputs": [
    {
     "data": {
      "text/plain": [
       "'3000/3000 Quotient metric: 0.00463'"
      ]
     },
     "metadata": {},
     "output_type": "display_data"
    },
    {
     "data": {
      "text/plain": [
       "'3000/3000 L2 metric      : 0.10439'"
      ]
     },
     "metadata": {},
     "output_type": "display_data"
    }
   ],
   "source": [
    "train_net(denoised)"
   ]
  },
  {
   "cell_type": "code",
   "execution_count": null,
   "metadata": {},
   "outputs": [],
   "source": [
    "visualize()"
   ]
  }
 ],
 "metadata": {
  "kernelspec": {
   "display_name": "Python 3",
   "language": "python",
   "name": "python3"
  },
  "language_info": {
   "codemirror_mode": {
    "name": "ipython",
    "version": 3
   },
   "file_extension": ".py",
   "mimetype": "text/x-python",
   "name": "python",
   "nbconvert_exporter": "python",
   "pygments_lexer": "ipython3",
   "version": "3.6.7"
  }
 },
 "nbformat": 4,
 "nbformat_minor": 2
}
