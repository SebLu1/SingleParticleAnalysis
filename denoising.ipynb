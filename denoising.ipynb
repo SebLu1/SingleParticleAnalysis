{
 "cells": [
  {
   "cell_type": "code",
   "execution_count": 1,
   "metadata": {},
   "outputs": [],
   "source": [
    "import tensorflow as tf\n",
    "import numpy as np\n",
    "import matplotlib.pyplot as plt \n",
    "import odl\n",
    "import odl.contrib.tensorflow\n",
    "import os\n",
    "import matplotlib.pyplot as plt\n",
    "from IPython.display import display, clear_output\n",
    "import fnmatch\n",
    "import mrcfile\n",
    "#from util import evaluate, display_progress, visualize"
   ]
  },
  {
   "cell_type": "code",
   "execution_count": 16,
   "metadata": {},
   "outputs": [
    {
     "name": "stdout",
     "output_type": "stream",
     "text": [
      "# Training data points: 31\n",
      "# Evaluation data points: 1\n"
     ]
    }
   ],
   "source": [
    "def evaluate(test_gt, test_noisy):\n",
    "    error = loss.eval(feed_dict={gt_tensor: test_gt, noisy_tensor: test_noisy})\n",
    "    return error\n",
    "    \n",
    "def display_progress(i, max_iter, test_gt, test_noisy):\n",
    "    error = evaluate(test_gt, test_noisy)\n",
    "    clear_output()\n",
    "    display('{}/{}, error: {}'.format(i + 1, max_iter, error))\n",
    "\n",
    "    \n",
    "def get_tensor_name(tensor, default_name=\"Ground truth\"):\n",
    "    \"\"\"Utility function to get the name of a tensor.\"\"\"\n",
    "    try:\n",
    "        name = tensor.name.split('/')[0]\n",
    "        # Hack for display of data\n",
    "        if 'noisy' in name:\n",
    "            name = 'Noisy'\n",
    "    except AttributeError:\n",
    "        name = default_name\n",
    "    return name    \n",
    "    \n",
    "\n",
    "def visualize(result_tensor, ground_truth_tensor, noisy_tensor, indices=np.arange(1)):\n",
    "    \"\"\"Visualize the result of a reconstruction.\"\"\"        \n",
    "\n",
    "\n",
    "    gt, noisy = test_data[0][indices], test_data[1][indices]\n",
    "\n",
    " \n",
    "    result = result_tensor.eval(\n",
    "        feed_dict={ground_truth_tensor: gt, noisy_tensor: noisy}) \n",
    "      \n",
    "    results_ = [gt, noisy, result]\n",
    "    names = ['Ground truth', 'Noisy data', get_tensor_name(result_tensor)]\n",
    "    \n",
    "    plt.figure(figsize=(15, 3.5))\n",
    "    plt.subplot(131)\n",
    "    plt.imshow(gt.squeeze().mean(axis=1))\n",
    "    plt.colorbar()\n",
    "    plt.subplot(132)\n",
    "    plt.imshow(noisy.squeeze().mean(axis=1))\n",
    "    plt.colorbar()\n",
    "    plt.subplot(133)\n",
    "    plt.imshow(result.squeeze().mean(axis=1))\n",
    "    plt.colorbar()\n",
    "    plt.show()\n",
    "\n",
    "\n",
    "\n",
    "def find(pattern, path):\n",
    "    result = []\n",
    "    for root, dirs, files in os.walk(path):\n",
    "        for name in files:\n",
    "            if fnmatch.fnmatch(name, pattern):\n",
    "                result.append(os.path.join(root, name).replace(\"\\\\\", \"/\"))\n",
    "    return result\n",
    "\n",
    "GT_PATH = '/local/scratch/public/sl767/MRC_Data/org/'\n",
    "SGD_PATH = '/local/scratch/public/sl767/MRC_Data/Data_002_10k/SGD'\n",
    "\n",
    "NOISY_PATH = SGD_PATH\n",
    "\n",
    "train_list = find('3*it300_class001.mrc*', NOISY_PATH)\n",
    "train_amount = len(train_list)\n",
    "print('# Training data points: ' + str(train_amount))\n",
    "eval_list = find('9*it300_class001.mrc*', NOISY_PATH)\n",
    "eval_amount = len(eval_list)\n",
    "print('# Evaluation data points: ' + str(eval_amount))\n",
    "\n",
    "\n",
    "def locate_gt(noisy_path):\n",
    "    pdb_id = noisy_path[-31: -27]\n",
    "    L = find('*' + pdb_id + '.mrc', GT_PATH)\n",
    "    if not len(L) == 1:\n",
    "        raise ValueError('non-unique pdb id: ' + L)\n",
    "    else:\n",
    "        return L[0]\n",
    "\n",
    "def get_single_data(index=None, is_training=True, normalize=True):      \n",
    "    if is_training:\n",
    "        L = train_list\n",
    "    else:\n",
    "        L = eval_list\n",
    "    if index is None:\n",
    "        noisy_path = np.random.choice(L)\n",
    "    else:\n",
    "        noisy_path = L[index]\n",
    "    with mrcfile.open(noisy_path) as mrc:\n",
    "        noisy = mrc.data\n",
    "    with mrcfile.open(locate_gt(noisy_path)) as mrc:\n",
    "        gt = mrc.data\n",
    "    if normalize:\n",
    "        gt, noisy = gt/np.sqrt(np.sum(gt ** 2)), noisy/np.sqrt(np.sum(noisy ** 2)) \n",
    "    return gt, noisy\n",
    "\n",
    "def get_batch(batch_size, is_training=True, normalize=True):\n",
    "    gt = np.zeros(shape=(batch_size, 96, 96, 96, 1))\n",
    "    noisy = np.zeros(shape=(batch_size, 96, 96, 96, 1))\n",
    "    for k in range(batch_size):\n",
    "        gt_tmp, noisy_tmp = get_single_data(is_training=is_training, normalize=normalize)\n",
    "        gt[k, ..., 0] = gt_tmp\n",
    "        noisy[k, ..., 0] = noisy_tmp\n",
    "    return gt, noisy"
   ]
  },
  {
   "cell_type": "code",
   "execution_count": 17,
   "metadata": {},
   "outputs": [],
   "source": [
    "BATCH_SIZE = 1\n",
    "test_data = get_batch(batch_size=np.min([eval_amount, 5]), is_training=False)"
   ]
  },
  {
   "cell_type": "code",
   "execution_count": 18,
   "metadata": {},
   "outputs": [],
   "source": [
    "def train(num_train_batches=100):\n",
    "    for i in range(num_train_batches):\n",
    "        ground_truth, noisy = get_batch(BATCH_SIZE) \n",
    "        \n",
    "        session.run(optimizer, feed_dict={gt_tensor: ground_truth, noisy_tensor: noisy})\n",
    "\n",
    "        display_progress(i, num_train_batches, test_data[0], test_data[1])\n",
    "        visualize(ground_truth_tensor=gt_tensor, noisy_tensor=noisy_tensor, result_tensor=denoised)"
   ]
  },
  {
   "cell_type": "code",
   "execution_count": 19,
   "metadata": {},
   "outputs": [
    {
     "data": {
      "text/plain": [
       "'/local/scratch/public/sl767/MRC_Data/org/training/3/3A09.mrc'"
      ]
     },
     "execution_count": 19,
     "metadata": {},
     "output_type": "execute_result"
    }
   ],
   "source": [
    "locate_gt(train_list[0])"
   ]
  },
  {
   "cell_type": "code",
   "execution_count": 20,
   "metadata": {},
   "outputs": [
    {
     "name": "stderr",
     "output_type": "stream",
     "text": [
      "/alt/applic/user-maint/sl767/miniconda3/envs/py3/lib/python3.6/site-packages/tensorflow/python/client/session.py:1662: UserWarning: An interactive session is already active. This can cause out-of-memory errors in some cases. You must explicitly call `InteractiveSession.close()` to release resources held by the other session(s).\n",
      "  warnings.warn('An interactive session is already active. This can '\n"
     ]
    }
   ],
   "source": [
    "session = tf.InteractiveSession()"
   ]
  },
  {
   "cell_type": "code",
   "execution_count": 25,
   "metadata": {},
   "outputs": [],
   "source": [
    "class orbitLoss(odl.solvers.Functional):\n",
    "    def __init__(self, domain):\n",
    "        super(orbitLoss, self).__init__(domain) \n",
    "        \n",
    "    def localReg(self, prod_elem):\n",
    "        theta = None\n",
    "        fun = 0.5 * np.sum((prod_elem[0] - prod_elem[1]) ** 2)\n",
    "        reco_rotated = prod_elem[1] #  The rotated RECONSTRUCTION (NOT GROUND TRUTH)\n",
    "        return theta, fun, reco_rotated \n",
    "\n",
    "\n",
    "    def _call(self, prod_elem):\n",
    "        return self.localReg(prod_elem)[1] #  optimal funtional value\n",
    "\n",
    "\n",
    "    # For performance OrbitLossGradientOperator should maybe defined outside of orbitLoss?\n",
    "    @property\n",
    "    def gradient(self):\n",
    "        class OrbitLossGradientOperator(odl.Operator):\n",
    "            def __init__(self, domain, outer_instance):\n",
    "                super(OrbitLossGradientOperator, self).__init__(domain=domain, range=domain)\n",
    "                self.outer_instance = outer_instance\n",
    "            def _call(self, prod_elem):\n",
    "                x = prod_elem[0] #  Ground truth\n",
    "                y = prod_elem[1] #  Reco\n",
    "                grad_x = np.zeros_like(x) #  Lets set the dervative wrt ground truth-part to zero. It will not propagate back to network params.\n",
    "                _, _, reco_rotated = self.outer_instance.localReg(prod_elem) #  \n",
    "                grad_y = reco_rotated - x\n",
    "                grad = self.domain.element([grad_x, grad_y])\n",
    "                return grad\n",
    "               \n",
    "        return OrbitLossGradientOperator(self.domain, self)\n"
   ]
  },
  {
   "cell_type": "code",
   "execution_count": 26,
   "metadata": {},
   "outputs": [],
   "source": [
    "with tf.name_scope('placeholders'):\n",
    "    gt_tensor = tf.placeholder(tf.float64, shape=[None, 96, 96, 96, 1], name=\"gt_tensor\")\n",
    "    noisy_tensor = tf.placeholder(tf.float64, shape=[None, 96, 96, 96, 1], name=\"noisy_tensor\")\n",
    "\n",
    "space = odl.ProductSpace(odl.uniform_discr(min_pt=[0]*3, max_pt=[1]*3, shape=[96]*3), 2)\n",
    "loss_op = orbitLoss(domain=space)\n",
    "tf_loss_op = odl.contrib.tensorflow.as_tensorflow_layer(loss_op, name='tf_loss_op')"
   ]
  },
  {
   "cell_type": "code",
   "execution_count": 27,
   "metadata": {},
   "outputs": [],
   "source": [
    "with tf.name_scope('Denoised'):\n",
    "    current = noisy_tensor\n",
    "\n",
    "    for i in range(2):\n",
    "        dx = tf.contrib.layers.conv3d(current, num_outputs=32, kernel_size=3)\n",
    "        dx = tf.contrib.layers.conv3d(dx, num_outputs=32, kernel_size=3)\n",
    "        dx = tf.contrib.layers.conv3d(dx, num_outputs=1, kernel_size=1,\n",
    "                                      activation_fn=None)\n",
    "\n",
    "        current = current + dx\n",
    "\n",
    "    denoised = current\n",
    "\n",
    "with tf.name_scope('optimizer_orbit_loss'):\n",
    "    stack = tf.stack([gt_tensor[0, :, :, :, 0], denoised[0, :, :, :, 0]])[None, ..., None]\n",
    "    loss = tf_loss_op(stack)\n",
    "    optimizer = tf.train.AdamOptimizer().minimize(loss)"
   ]
  },
  {
   "cell_type": "code",
   "execution_count": 31,
   "metadata": {},
   "outputs": [
    {
     "data": {
      "text/plain": [
       "'2/100, error: [ 0.49446448]'"
      ]
     },
     "metadata": {},
     "output_type": "display_data"
    },
    {
     "ename": "KeyboardInterrupt",
     "evalue": "",
     "output_type": "error",
     "traceback": [
      "\u001b[0;31m---------------------------------------------------------------------------\u001b[0m",
      "\u001b[0;31mKeyboardInterrupt\u001b[0m                         Traceback (most recent call last)",
      "\u001b[0;32m<ipython-input-31-360f4283dee9>\u001b[0m in \u001b[0;36m<module>\u001b[0;34m\u001b[0m\n\u001b[1;32m      1\u001b[0m \u001b[0;31m#tf.global_variables_initializer().run()\u001b[0m\u001b[0;34m\u001b[0m\u001b[0;34m\u001b[0m\u001b[0;34m\u001b[0m\u001b[0m\n\u001b[0;32m----> 2\u001b[0;31m \u001b[0mtrain\u001b[0m\u001b[0;34m(\u001b[0m\u001b[0;36m100\u001b[0m\u001b[0;34m)\u001b[0m\u001b[0;34m\u001b[0m\u001b[0;34m\u001b[0m\u001b[0m\n\u001b[0m",
      "\u001b[0;32m<ipython-input-18-cba6ed4b2c67>\u001b[0m in \u001b[0;36mtrain\u001b[0;34m(num_train_batches)\u001b[0m\n\u001b[1;32m      3\u001b[0m         \u001b[0mground_truth\u001b[0m\u001b[0;34m,\u001b[0m \u001b[0mnoisy\u001b[0m \u001b[0;34m=\u001b[0m \u001b[0mget_batch\u001b[0m\u001b[0;34m(\u001b[0m\u001b[0mBATCH_SIZE\u001b[0m\u001b[0;34m)\u001b[0m\u001b[0;34m\u001b[0m\u001b[0;34m\u001b[0m\u001b[0m\n\u001b[1;32m      4\u001b[0m \u001b[0;34m\u001b[0m\u001b[0m\n\u001b[0;32m----> 5\u001b[0;31m         \u001b[0msession\u001b[0m\u001b[0;34m.\u001b[0m\u001b[0mrun\u001b[0m\u001b[0;34m(\u001b[0m\u001b[0moptimizer\u001b[0m\u001b[0;34m,\u001b[0m \u001b[0mfeed_dict\u001b[0m\u001b[0;34m=\u001b[0m\u001b[0;34m{\u001b[0m\u001b[0mgt_tensor\u001b[0m\u001b[0;34m:\u001b[0m \u001b[0mground_truth\u001b[0m\u001b[0;34m,\u001b[0m \u001b[0mnoisy_tensor\u001b[0m\u001b[0;34m:\u001b[0m \u001b[0mnoisy\u001b[0m\u001b[0;34m}\u001b[0m\u001b[0;34m)\u001b[0m\u001b[0;34m\u001b[0m\u001b[0;34m\u001b[0m\u001b[0m\n\u001b[0m\u001b[1;32m      6\u001b[0m \u001b[0;34m\u001b[0m\u001b[0m\n\u001b[1;32m      7\u001b[0m         \u001b[0mdisplay_progress\u001b[0m\u001b[0;34m(\u001b[0m\u001b[0mi\u001b[0m\u001b[0;34m,\u001b[0m \u001b[0mnum_train_batches\u001b[0m\u001b[0;34m,\u001b[0m \u001b[0mtest_data\u001b[0m\u001b[0;34m[\u001b[0m\u001b[0;36m0\u001b[0m\u001b[0;34m]\u001b[0m\u001b[0;34m,\u001b[0m \u001b[0mtest_data\u001b[0m\u001b[0;34m[\u001b[0m\u001b[0;36m1\u001b[0m\u001b[0;34m]\u001b[0m\u001b[0;34m)\u001b[0m\u001b[0;34m\u001b[0m\u001b[0;34m\u001b[0m\u001b[0m\n",
      "\u001b[0;32m/alt/applic/user-maint/sl767/miniconda3/envs/py3/lib/python3.6/site-packages/tensorflow/python/client/session.py\u001b[0m in \u001b[0;36mrun\u001b[0;34m(self, fetches, feed_dict, options, run_metadata)\u001b[0m\n\u001b[1;32m    885\u001b[0m     \u001b[0;32mtry\u001b[0m\u001b[0;34m:\u001b[0m\u001b[0;34m\u001b[0m\u001b[0;34m\u001b[0m\u001b[0m\n\u001b[1;32m    886\u001b[0m       result = self._run(None, fetches, feed_dict, options_ptr,\n\u001b[0;32m--> 887\u001b[0;31m                          run_metadata_ptr)\n\u001b[0m\u001b[1;32m    888\u001b[0m       \u001b[0;32mif\u001b[0m \u001b[0mrun_metadata\u001b[0m\u001b[0;34m:\u001b[0m\u001b[0;34m\u001b[0m\u001b[0;34m\u001b[0m\u001b[0m\n\u001b[1;32m    889\u001b[0m         \u001b[0mproto_data\u001b[0m \u001b[0;34m=\u001b[0m \u001b[0mtf_session\u001b[0m\u001b[0;34m.\u001b[0m\u001b[0mTF_GetBuffer\u001b[0m\u001b[0;34m(\u001b[0m\u001b[0mrun_metadata_ptr\u001b[0m\u001b[0;34m)\u001b[0m\u001b[0;34m\u001b[0m\u001b[0;34m\u001b[0m\u001b[0m\n",
      "\u001b[0;32m/alt/applic/user-maint/sl767/miniconda3/envs/py3/lib/python3.6/site-packages/tensorflow/python/client/session.py\u001b[0m in \u001b[0;36m_run\u001b[0;34m(self, handle, fetches, feed_dict, options, run_metadata)\u001b[0m\n\u001b[1;32m   1108\u001b[0m     \u001b[0;32mif\u001b[0m \u001b[0mfinal_fetches\u001b[0m \u001b[0;32mor\u001b[0m \u001b[0mfinal_targets\u001b[0m \u001b[0;32mor\u001b[0m \u001b[0;34m(\u001b[0m\u001b[0mhandle\u001b[0m \u001b[0;32mand\u001b[0m \u001b[0mfeed_dict_tensor\u001b[0m\u001b[0;34m)\u001b[0m\u001b[0;34m:\u001b[0m\u001b[0;34m\u001b[0m\u001b[0;34m\u001b[0m\u001b[0m\n\u001b[1;32m   1109\u001b[0m       results = self._do_run(handle, final_targets, final_fetches,\n\u001b[0;32m-> 1110\u001b[0;31m                              feed_dict_tensor, options, run_metadata)\n\u001b[0m\u001b[1;32m   1111\u001b[0m     \u001b[0;32melse\u001b[0m\u001b[0;34m:\u001b[0m\u001b[0;34m\u001b[0m\u001b[0;34m\u001b[0m\u001b[0m\n\u001b[1;32m   1112\u001b[0m       \u001b[0mresults\u001b[0m \u001b[0;34m=\u001b[0m \u001b[0;34m[\u001b[0m\u001b[0;34m]\u001b[0m\u001b[0;34m\u001b[0m\u001b[0;34m\u001b[0m\u001b[0m\n",
      "\u001b[0;32m/alt/applic/user-maint/sl767/miniconda3/envs/py3/lib/python3.6/site-packages/tensorflow/python/client/session.py\u001b[0m in \u001b[0;36m_do_run\u001b[0;34m(self, handle, target_list, fetch_list, feed_dict, options, run_metadata)\u001b[0m\n\u001b[1;32m   1284\u001b[0m     \u001b[0;32mif\u001b[0m \u001b[0mhandle\u001b[0m \u001b[0;32mis\u001b[0m \u001b[0;32mNone\u001b[0m\u001b[0;34m:\u001b[0m\u001b[0;34m\u001b[0m\u001b[0;34m\u001b[0m\u001b[0m\n\u001b[1;32m   1285\u001b[0m       return self._do_call(_run_fn, feeds, fetches, targets, options,\n\u001b[0;32m-> 1286\u001b[0;31m                            run_metadata)\n\u001b[0m\u001b[1;32m   1287\u001b[0m     \u001b[0;32melse\u001b[0m\u001b[0;34m:\u001b[0m\u001b[0;34m\u001b[0m\u001b[0;34m\u001b[0m\u001b[0m\n\u001b[1;32m   1288\u001b[0m       \u001b[0;32mreturn\u001b[0m \u001b[0mself\u001b[0m\u001b[0;34m.\u001b[0m\u001b[0m_do_call\u001b[0m\u001b[0;34m(\u001b[0m\u001b[0m_prun_fn\u001b[0m\u001b[0;34m,\u001b[0m \u001b[0mhandle\u001b[0m\u001b[0;34m,\u001b[0m \u001b[0mfeeds\u001b[0m\u001b[0;34m,\u001b[0m \u001b[0mfetches\u001b[0m\u001b[0;34m)\u001b[0m\u001b[0;34m\u001b[0m\u001b[0;34m\u001b[0m\u001b[0m\n",
      "\u001b[0;32m/alt/applic/user-maint/sl767/miniconda3/envs/py3/lib/python3.6/site-packages/tensorflow/python/client/session.py\u001b[0m in \u001b[0;36m_do_call\u001b[0;34m(self, fn, *args)\u001b[0m\n\u001b[1;32m   1290\u001b[0m   \u001b[0;32mdef\u001b[0m \u001b[0m_do_call\u001b[0m\u001b[0;34m(\u001b[0m\u001b[0mself\u001b[0m\u001b[0;34m,\u001b[0m \u001b[0mfn\u001b[0m\u001b[0;34m,\u001b[0m \u001b[0;34m*\u001b[0m\u001b[0margs\u001b[0m\u001b[0;34m)\u001b[0m\u001b[0;34m:\u001b[0m\u001b[0;34m\u001b[0m\u001b[0;34m\u001b[0m\u001b[0m\n\u001b[1;32m   1291\u001b[0m     \u001b[0;32mtry\u001b[0m\u001b[0;34m:\u001b[0m\u001b[0;34m\u001b[0m\u001b[0;34m\u001b[0m\u001b[0m\n\u001b[0;32m-> 1292\u001b[0;31m       \u001b[0;32mreturn\u001b[0m \u001b[0mfn\u001b[0m\u001b[0;34m(\u001b[0m\u001b[0;34m*\u001b[0m\u001b[0margs\u001b[0m\u001b[0;34m)\u001b[0m\u001b[0;34m\u001b[0m\u001b[0;34m\u001b[0m\u001b[0m\n\u001b[0m\u001b[1;32m   1293\u001b[0m     \u001b[0;32mexcept\u001b[0m \u001b[0merrors\u001b[0m\u001b[0;34m.\u001b[0m\u001b[0mOpError\u001b[0m \u001b[0;32mas\u001b[0m \u001b[0me\u001b[0m\u001b[0;34m:\u001b[0m\u001b[0;34m\u001b[0m\u001b[0;34m\u001b[0m\u001b[0m\n\u001b[1;32m   1294\u001b[0m       \u001b[0mmessage\u001b[0m \u001b[0;34m=\u001b[0m \u001b[0mcompat\u001b[0m\u001b[0;34m.\u001b[0m\u001b[0mas_text\u001b[0m\u001b[0;34m(\u001b[0m\u001b[0me\u001b[0m\u001b[0;34m.\u001b[0m\u001b[0mmessage\u001b[0m\u001b[0;34m)\u001b[0m\u001b[0;34m\u001b[0m\u001b[0;34m\u001b[0m\u001b[0m\n",
      "\u001b[0;32m/alt/applic/user-maint/sl767/miniconda3/envs/py3/lib/python3.6/site-packages/tensorflow/python/client/session.py\u001b[0m in \u001b[0;36m_run_fn\u001b[0;34m(feed_dict, fetch_list, target_list, options, run_metadata)\u001b[0m\n\u001b[1;32m   1275\u001b[0m       \u001b[0mself\u001b[0m\u001b[0;34m.\u001b[0m\u001b[0m_extend_graph\u001b[0m\u001b[0;34m(\u001b[0m\u001b[0;34m)\u001b[0m\u001b[0;34m\u001b[0m\u001b[0;34m\u001b[0m\u001b[0m\n\u001b[1;32m   1276\u001b[0m       return self._call_tf_sessionrun(\n\u001b[0;32m-> 1277\u001b[0;31m           options, feed_dict, fetch_list, target_list, run_metadata)\n\u001b[0m\u001b[1;32m   1278\u001b[0m \u001b[0;34m\u001b[0m\u001b[0m\n\u001b[1;32m   1279\u001b[0m     \u001b[0;32mdef\u001b[0m \u001b[0m_prun_fn\u001b[0m\u001b[0;34m(\u001b[0m\u001b[0mhandle\u001b[0m\u001b[0;34m,\u001b[0m \u001b[0mfeed_dict\u001b[0m\u001b[0;34m,\u001b[0m \u001b[0mfetch_list\u001b[0m\u001b[0;34m)\u001b[0m\u001b[0;34m:\u001b[0m\u001b[0;34m\u001b[0m\u001b[0;34m\u001b[0m\u001b[0m\n",
      "\u001b[0;32m/alt/applic/user-maint/sl767/miniconda3/envs/py3/lib/python3.6/site-packages/tensorflow/python/client/session.py\u001b[0m in \u001b[0;36m_call_tf_sessionrun\u001b[0;34m(self, options, feed_dict, fetch_list, target_list, run_metadata)\u001b[0m\n\u001b[1;32m   1365\u001b[0m     return tf_session.TF_SessionRun_wrapper(\n\u001b[1;32m   1366\u001b[0m         \u001b[0mself\u001b[0m\u001b[0;34m.\u001b[0m\u001b[0m_session\u001b[0m\u001b[0;34m,\u001b[0m \u001b[0moptions\u001b[0m\u001b[0;34m,\u001b[0m \u001b[0mfeed_dict\u001b[0m\u001b[0;34m,\u001b[0m \u001b[0mfetch_list\u001b[0m\u001b[0;34m,\u001b[0m \u001b[0mtarget_list\u001b[0m\u001b[0;34m,\u001b[0m\u001b[0;34m\u001b[0m\u001b[0;34m\u001b[0m\u001b[0m\n\u001b[0;32m-> 1367\u001b[0;31m         run_metadata)\n\u001b[0m\u001b[1;32m   1368\u001b[0m \u001b[0;34m\u001b[0m\u001b[0m\n\u001b[1;32m   1369\u001b[0m   \u001b[0;32mdef\u001b[0m \u001b[0m_call_tf_sessionprun\u001b[0m\u001b[0;34m(\u001b[0m\u001b[0mself\u001b[0m\u001b[0;34m,\u001b[0m \u001b[0mhandle\u001b[0m\u001b[0;34m,\u001b[0m \u001b[0mfeed_dict\u001b[0m\u001b[0;34m,\u001b[0m \u001b[0mfetch_list\u001b[0m\u001b[0;34m)\u001b[0m\u001b[0;34m:\u001b[0m\u001b[0;34m\u001b[0m\u001b[0;34m\u001b[0m\u001b[0m\n",
      "\u001b[0;31mKeyboardInterrupt\u001b[0m: "
     ]
    }
   ],
   "source": [
    "tf.global_variables_initializer().run()\n",
    "train(100)"
   ]
  },
  {
   "cell_type": "code",
   "execution_count": 30,
   "metadata": {},
   "outputs": [
    {
     "data": {
      "image/png": "[encoded data removed]",
      "text/plain": [
       "<Figure size 1080x252 with 6 Axes>"
      ]
     },
     "metadata": {
      "needs_background": "light"
     },
     "output_type": "display_data"
    }
   ],
   "source": [
    "visualize(ground_truth_tensor=gt_tensor, noisy_tensor=noisy_tensor, result_tensor=denoised)"
   ]
  },
  {
   "cell_type": "code",
   "execution_count": 15,
   "metadata": {},
   "outputs": [
    {
     "name": "stdout",
     "output_type": "stream",
     "text": [
      "[8.8442070593219998e-06, 0.04894436807244746]\n"
     ]
    }
   ],
   "source": [
    "print([np.sum(test_data[k] ** 2) for k in [0,1]])"
   ]
  },
  {
   "cell_type": "code",
   "execution_count": null,
   "metadata": {},
   "outputs": [],
   "source": [
    "? tf.global_variables_initializer()"
   ]
  },
  {
   "cell_type": "code",
   "execution_count": null,
   "metadata": {},
   "outputs": [],
   "source": [
    "loss.eval()"
   ]
  },
  {
   "cell_type": "code",
   "execution_count": null,
   "metadata": {},
   "outputs": [],
   "source": [
    "'2/100, error: [ 0.40670216]'"
   ]
  }
 ],
 "metadata": {
  "kernelspec": {
   "display_name": "Python 3",
   "language": "python",
   "name": "python3"
  },
  "language_info": {
   "codemirror_mode": {
    "name": "ipython",
    "version": 3
   },
   "file_extension": ".py",
   "mimetype": "text/x-python",
   "name": "python",
   "nbconvert_exporter": "python",
   "pygments_lexer": "ipython3",
   "version": "3.6.7"
  }
 },
 "nbformat": 4,
 "nbformat_minor": 2
}
